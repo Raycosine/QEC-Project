{
 "cells": [
  {
   "cell_type": "markdown",
   "metadata": {},
   "source": [
    "Based on https://github.com/Qiskit/qiskit-tutorials/blob/master/legacy_tutorials/ignis/6a_state_tomography.ipynb?fbclid=IwAR1Pf1nH2CBPUWDdsa_xBiYs1kYDu8hwI9dVvr63z7ypmhy2UlR6QpMgJWc, 2-Qubit Conditional State Tomography"
   ]
  },
  {
   "cell_type": "markdown",
   "metadata": {},
   "source": [
    "# Verifying QEC with Two Extra Qubits on IBM Q computers\n",
    "\n",
    "## Only post processing\n",
    "\n",
    "Run all blocks, which includes\n",
    "- functions\n",
    "- one simulation to return the basis matrices for tomography circuits (cost some seconds)\n",
    "- load 4 file from pickle, each represents one experiment for the stabilizer\n",
    "- post processing...\n",
    "\n",
    "\n",
    "- Code References\n",
    "- + [Qiskit Tutorial, 2-Qubit Conditional State Tomography](https://github.com/Qiskit/qiskit-tutorials/blob/master/legacy_tutorials/ignis/6a_state_tomography.ipynb?fbclid=IwAR1Pf1nH2CBPUWDdsa_xBiYs1kYDu8hwI9dVvr63z7ypmhy2UlR6QpMgJWc)\n",
    "- + [Qiskit source code](https://github.com/Qiskit) `Note` Some functions are modified from built-in methods."
   ]
  },
  {
   "cell_type": "markdown",
   "metadata": {},
   "source": [
    "## Initialization"
   ]
  },
  {
   "cell_type": "code",
   "execution_count": 1,
   "metadata": {},
   "outputs": [
    {
     "data": {
      "application/vnd.jupyter.widget-view+json": {
       "model_id": "5b2c2814c6c6462f94bdfe184d8356db",
       "version_major": 2,
       "version_minor": 0
      },
      "text/plain": [
       "Accordion(children=(VBox(layout=Layout(max_width='710px', min_width='710px')),), layout=Layout(max_height='500…"
      ]
     },
     "metadata": {},
     "output_type": "display_data"
    },
    {
     "data": {
      "application/javascript": [
       "$('div.job_widget')\n",
       "        .detach()\n",
       "        .appendTo($('#header'))\n",
       "        .css({\n",
       "            'z-index': 999,\n",
       "             'position': 'fixed',\n",
       "            'box-shadow': '5px 5px 5px -3px black',\n",
       "            'opacity': 0.95,\n",
       "            'float': 'left,'\n",
       "        })\n",
       "        "
      ],
      "text/plain": [
       "<IPython.core.display.Javascript object>"
      ]
     },
     "metadata": {},
     "output_type": "display_data"
    },
    {
     "data": {
      "application/vnd.jupyter.widget-view+json": {
       "model_id": "2d72642ef84d492791f0adf8831bc2d0",
       "version_major": 2,
       "version_minor": 0
      },
      "text/plain": [
       "VBox(children=(HTML(value=''), IntProgress(value=0, bar_style='info')))"
      ]
     },
     "metadata": {},
     "output_type": "display_data"
    }
   ],
   "source": [
    "%matplotlib inline\n",
    "# Importing standard Qiskit libraries and configuring account\n",
    "from qiskit import QuantumCircuit, execute, Aer, IBMQ\n",
    "from qiskit import QuantumRegister, ClassicalRegister\n",
    "from qiskit.compiler import transpile, assemble\n",
    "from qiskit.tools.jupyter import *\n",
    "from qiskit.visualization import *\n",
    "from qiskit.circuit import Parameter\n",
    "from qiskit.result import Result\n",
    "\n",
    "import qiskit.ignis.verification.tomography as tom\n",
    "from qiskit.providers.ibmq.managed import IBMQJobManager\n",
    "from qiskit.providers.jobstatus import JOB_FINAL_STATES\n",
    "from qiskit.quantum_info import state_fidelity\n",
    "from qiskit.providers.aer import noise\n",
    "\n",
    "# Importing other packages\n",
    "import matplotlib.pyplot as plt\n",
    "import pickle\n",
    "import numpy as np\n",
    "from copy import deepcopy\n",
    "import time\n",
    "# Importing measurement calibration functions\n",
    "from qiskit.ignis.mitigation.measurement import (complete_meas_cal, tensored_meas_cal,\n",
    "                                                 CompleteMeasFitter, TensoredMeasFitter)\n",
    "from itertools import product\n",
    "\n",
    "# Importing tomography fitter functions\n",
    "from qiskit.ignis.verification.tomography.fitters import lstsq_fit\n",
    "from qiskit.ignis.verification.tomography.basis import TomographyBasis\n",
    "from ast import literal_eval\n",
    "import itertools as it\n",
    "from qiskit.ignis.verification.tomography.data import combine_counts, count_keys\n",
    "\n",
    "#Visualization\n",
    "%qiskit_job_watcher\n",
    "%qiskit_progress_bar\n",
    "from qiskit.tools.parallel import parallel_map\n",
    "parallel_map(np.sin, np.linspace(0,10,100));"
   ]
  },
  {
   "cell_type": "code",
   "execution_count": 2,
   "metadata": {},
   "outputs": [],
   "source": [
    "# Loading your IBM Q account(s)\n",
    "provider = IBMQ.load_account()"
   ]
  },
  {
   "cell_type": "code",
   "execution_count": 3,
   "metadata": {},
   "outputs": [],
   "source": [
    "#Getting backends\n",
    "backend=provider.get_backend('ibmq_16_melbourne')\n",
    "backend_sim=provider.get_backend('ibmq_qasm_simulator')\n",
    "backend_sim_local=Aer.get_backend('qasm_simulator')\n",
    "backend_sv=Aer.get_backend('statevector_simulator')"
   ]
  },
  {
   "cell_type": "code",
   "execution_count": 4,
   "metadata": {},
   "outputs": [],
   "source": [
    "data_list=[0,1,2,3,4]\n",
    "syn=[5]\n",
    "flag=[6]"
   ]
  },
  {
   "cell_type": "markdown",
   "metadata": {},
   "source": [
    "## State Preparation"
   ]
  },
  {
   "cell_type": "code",
   "execution_count": 83,
   "metadata": {},
   "outputs": [],
   "source": [
    "\"\"\"\n",
    "StatePreparation(stabilizer: int)\n",
    "    Return one of the three stabilizers for state preparation in SM of QEC with two extra qubits.\n",
    "    Variable:\n",
    "        stabilizer: 0,1, or 2\n",
    "    Return:\n",
    "        q: QuantumRegister(7)\n",
    "        qc: QuantumCircuit(q)\n",
    "\n",
    "q, qc=StatePreparation(0)\n",
    "qc.draw()\n",
    "\"\"\"\n",
    "def StatePreparation(stabilizer=0):#if stabilizer=0: return the ZXIXZ stabilizer, otherwise return the pure state preparation circuit\n",
    "    if(stabilizer==0):\n",
    "        q1 = QuantumRegister(7)\n",
    "        qc = QuantumCircuit(q1)\n",
    "        \n",
    "        qc.h(q1[1])\n",
    "        qc.h(q1[3])\n",
    "        qc.cx(q1[1],q1[2])\n",
    "        qc.cx(q1[3],q1[4])\n",
    "        qc.cx(q1[0],q1[1])\n",
    "        qc.cx(q1[3],q1[2])\n",
    "        qc.cx(q1[1],q1[0])\n",
    "        qc.h(q1[1])\n",
    "        qc.h(q1[2])\n",
    "        qc.cx(q1[1],q1[4])\n",
    "        qc.h(q1[4])\n",
    "\n",
    "        qc.h(q1[6])\n",
    "        qc.h(q1[0])\n",
    "        qc.cx(q1[0],q1[5])\n",
    "        qc.h(q1[0])\n",
    "        qc.cx(q1[6],q1[5])\n",
    "        qc.swap(q1[0],q1[1])\n",
    "        qc.cx(q1[4],q1[5])\n",
    "        qc.swap(q1[3],q1[4])\n",
    "        qc.cx(q1[0],q1[5])\n",
    "        qc.cx(q1[6],q1[5])\n",
    "        qc.h(q1[4])\n",
    "        qc.cx(q1[4],q1[5])\n",
    "        qc.h(q1[4])\n",
    "        qc.h(q1[6])\n",
    "        return q1, qc\n",
    "    else:\n",
    "        q1 = QuantumRegister(5)\n",
    "        qc = QuantumCircuit(q1)\n",
    "        \n",
    "        qc.h(q1[1])\n",
    "        qc.h(q1[3])\n",
    "        qc.cx(q1[1],q1[2])\n",
    "        qc.cx(q1[3],q1[4])\n",
    "        qc.cx(q1[0],q1[1])\n",
    "        qc.cx(q1[3],q1[2])\n",
    "        qc.cx(q1[1],q1[0])\n",
    "        qc.h(q1[1])\n",
    "        qc.h(q1[2])\n",
    "        qc.cx(q1[1],q1[4])\n",
    "        qc.h(q1[4])\n",
    "        \n",
    "        for i in range(7):\n",
    "            qc.i(q1[0])\n",
    "            qc.barrier()\n",
    "        return q1, qc\n",
    "\n",
    "def StatePreparationAll(stabilizer=0):#if stabilizer=-1 or any value that is not 0,1,2, will return a circuit without stabilizer\n",
    "    q = QuantumRegister(7)\n",
    "    qc = QuantumCircuit(q)\n",
    "    #prepare the 5-qubit graph state\n",
    "    qc.h(q[0])\n",
    "    qc.h(q[1])\n",
    "    qc.h(q[2])\n",
    "    qc.h(q[3])\n",
    "    qc.h(q[4])\n",
    "    qc.cz(q[0],q[1])\n",
    "    qc.cz(q[2],q[3])\n",
    "    qc.cz(q[1],q[2])\n",
    "    qc.cz(q[3],q[4])\n",
    "    qc.cz(q[0],q[4])\n",
    "    #syndrome and flag extraction\n",
    "    #stabilizer order: from left to right, Fig 2(a), SM of two extra qubits\n",
    "    if(stabilizer==0):\n",
    "        #first stabilizer \n",
    "        qc.h(q[5])\n",
    "        qc.cx(q[5],q[0])\n",
    "        qc.cx(q[5],q[6])\n",
    "        qc.cz(q[1],q[5])\n",
    "        qc.cx(q[5],q[6])\n",
    "        qc.cz(q[4],q[5])\n",
    "        qc.h(q[5])\n",
    "    elif(stabilizer==1):\n",
    "    #second stabilizer\n",
    "        qc.h(q[5])\n",
    "        qc.cz(q[0],q[5])\n",
    "        qc.cx(q[5],q[6])\n",
    "        qc.cx(q[5],q[1])\n",
    "        qc.cx(q[5],q[6])\n",
    "        qc.cz(q[2],q[5])\n",
    "        qc.h(q[5])\n",
    "    elif(stabilizer==2):\n",
    "        #third stabilizer\n",
    "        qc.h(q[5])\n",
    "        qc.cx(q[5],q[3])\n",
    "        qc.cx(q[5],q[6])\n",
    "        qc.cz(q[2],q[5])\n",
    "        qc.cx(q[5],q[6])\n",
    "        qc.cz(q[4],q[5])\n",
    "        qc.h(q[5])\n",
    "    #measure syndrome and flag & do state tomography for the data qubits\n",
    "    qc.barrier()\n",
    "    #qc.measure(q[5],c[5])\n",
    "    #qc.measure(q[6],c[6])\n",
    "    return q, qc"
   ]
  },
  {
   "cell_type": "code",
   "execution_count": 6,
   "metadata": {},
   "outputs": [],
   "source": [
    "\"\"\"\n",
    "reduced(v: ndarray, sf: str)\n",
    "    Return the normalized projection result of given state vector onto certain subspace of syndrome&flag outcomes.\n",
    "    Variables:\n",
    "        v: ndarray, length 2**7\n",
    "        sf: '00', '01', '10', or '11', the first bit represents syndrome outcome and the second represents flag.\n",
    "    Return:\n",
    "        ndarray (2**5, 1)\n",
    "\n",
    "    we should have projected the ideal final state to the final state, ...\n",
    "    'reduced(v,sf)' returns the projected states based on 'sf'.\n",
    "    At the moment, for the (ideal) simulation result, 'sf' can only be '00'\n",
    "    and the func simply returns the first 32 elements of v.\n",
    "\"\"\"\n",
    "def reduced(v, sf):\n",
    "    s=int(sf[0])\n",
    "    f=int(sf[1])\n",
    "    out=s*2+f\n",
    "    res=[]\n",
    "    for i in range(v.shape[0]):\n",
    "        if((i>>5)==out):#((i%4)==out):#\n",
    "            res.append(v[i])\n",
    "    res=np.array(res)\n",
    "    res=res/np.sqrt(np.sum(np.power(np.abs(res),2)))\n",
    "    return np.array(res)"
   ]
  },
  {
   "cell_type": "markdown",
   "metadata": {},
   "source": [
    "## Pre-processing"
   ]
  },
  {
   "cell_type": "markdown",
   "metadata": {},
   "source": [
    "### Error Mitigation"
   ]
  },
  {
   "cell_type": "code",
   "execution_count": 7,
   "metadata": {},
   "outputs": [],
   "source": [
    "def msmtErrorMitFilter(backend, measured_qubit_list):\n",
    "    # backend is the backend from which we obtain measurement error rates\n",
    "    #measured_qubit_list contains\n",
    "    qr = QuantumRegister(len(measured_qubit_list))\n",
    "    qubit_list = range(len(measured_qubit_list))\n",
    "    \n",
    "    # Create the measurement calibration circuits\n",
    "    meas_calibs, state_labels = complete_meas_cal(qubit_list=qubit_list, qr=qr, circlabel='mcal')\n",
    "    \n",
    "    # Create a noise model with the qubits being measured\n",
    "    noise_model = noise.NoiseModel()\n",
    "    back_prop = backend.properties()\n",
    "    for qi in range(len(measured_qubit_list)):\n",
    "        m0_p1 = back_prop.qubit_property(qi,name='prob_meas0_prep1')[0]\n",
    "        m1_p0 = back_prop.qubit_property(qi,name='prob_meas1_prep0')[0]\n",
    "        read_err = noise.errors.readout_error.ReadoutError([[1-m1_p0, m1_p0],[m0_p1,1-m0_p1]])\n",
    "        noise_model.add_readout_error(read_err, [qi])\n",
    "    \n",
    "    # Execute the calibration circuits\n",
    "    job = execute(meas_calibs, backend=backend_sim_local, shots=1000, noise_model=noise_model)\n",
    "    cal_results = job.result()\n",
    "    \n",
    "    # Calculate the calibration matrix with the noise model\n",
    "    meas_fitter = CompleteMeasFitter(cal_results, state_labels, qubit_list=qubit_list, circlabel='mcal')\n",
    "\n",
    "    # Get the filter object\n",
    "    meas_filter = meas_fitter.filter\n",
    "    \n",
    "    return meas_filter"
   ]
  },
  {
   "cell_type": "markdown",
   "metadata": {},
   "source": [
    "# Please check msmtErrorMitOnTom().\n",
    "\n",
    "Changes: \n",
    "    - `old_counts` -> list of results.get_counts(data_idx)\n",
    "    - `mitigated_results` is `results` instead of a deepcopy of `results`\n",
    "    - For results obtained from melbourne, will return a dict like {\"(X,X,X,X,X)\": {'00 10101':12.2343234.... instead"
   ]
  },
  {
   "cell_type": "code",
   "execution_count": 8,
   "metadata": {},
   "outputs": [],
   "source": [
    "def msmtErrorMitOnTom(results, meas_filter, backend_type='simulation', basis_list=None):\n",
    "    \n",
    "#     print(results)\n",
    "    #mitigated_results = deepcopy(results)\n",
    "    old_counts=[]\n",
    "    for data_idx in range(243):#, _ in enumerate(results.results):\n",
    "        old_counts.append(results.get_counts(data_idx))\n",
    "    if(backend_type=='simulation'):\n",
    "        mitigated_results = results\n",
    "    else:\n",
    "        mitigated_results = {}\n",
    "    for data_idx in range(243):#results.results):\n",
    "        new_counts = {}\n",
    "        # removes key structure\n",
    "        for reg_key in old_counts[data_idx]:\n",
    "            reg_bits = reg_key.split(' ')\n",
    "            if(len(reg_bits)>1):\n",
    "                reg_bits = reg_bits[0]+reg_bits[1]\n",
    "                new_counts[reg_bits]=old_counts[data_idx][reg_key]\n",
    "            else:\n",
    "                new_counts[reg_key]=old_counts[data_idx][reg_key]\n",
    "                        \n",
    "        # applies measurement filter\n",
    "#         print(new_counts)\n",
    "        new_counts1 = meas_filter.apply(new_counts)\n",
    "#        print(type(new_counts1))\n",
    "#        print(new_counts1)\n",
    "        \n",
    "#         #replaces key structure\n",
    "        new_counts2 = {}\n",
    "        for reg_key in new_counts1:\n",
    "            #print(type(reg_key))\n",
    "            reg_bits = []\n",
    "            if(len(reg_key)==7):\n",
    "                reg_bits.append(reg_key[0:2])\n",
    "                reg_bits.append(reg_key[2:7])\n",
    "                reg = reg_bits[0] + \" \" + reg_bits[1]\n",
    "            else:\n",
    "                reg=reg_key\n",
    "            new_counts2[reg]=new_counts1[reg_key]\n",
    "        #print(new_counts2)\n",
    "        if(backend_type=='simulation'):\n",
    "            mitigated_results.results[data_idx].data.counts = \\\n",
    "                mitigated_results.results[data_idx]. \\\n",
    "                data.counts.from_dict(new_counts1)\n",
    "        elif(backend_type=='experiment'):\n",
    "            mitigated_results[basis_list[data_idx]] = \\\n",
    "                new_counts2\n",
    "#         new_result.results[resultidx].data.counts = \\\n",
    "#                     new_result.results[resultidx]. \\\n",
    "#                     data.counts.from_dict(new_counts)\n",
    "        \n",
    "#     print(mitigated_results)\n",
    "    return mitigated_results"
   ]
  },
  {
   "cell_type": "code",
   "execution_count": 9,
   "metadata": {},
   "outputs": [],
   "source": [
    "def sort_list(list1, list2): \n",
    "    # sorts list 1 based on the sort indices of list 2\n",
    "    zipped_pairs = zip(list2, list1) \n",
    "    z = [x for _, x in sorted(zipped_pairs)] \n",
    "      \n",
    "    return z "
   ]
  },
  {
   "cell_type": "code",
   "execution_count": 10,
   "metadata": {},
   "outputs": [],
   "source": [
    "def extractMsmtQubits(circuit):\n",
    "\n",
    "    # 'circuit' is the circuit for which we extract the list of measurement qubits\n",
    "    # This is some messy code. Not sure if we necessarily have to parse the qasm file of a circuit to find the qubits being measured\n",
    "    # Doesn't work too well when there are two classical registers. I've written up a fix but not happy with it.\n",
    "    qasm_obj = circuit.qasm()\n",
    "    t = qasm_obj.find(\"measure\")\n",
    "    qasm_obj = qasm_obj[t:-1]\n",
    "    qasm_obj = qasm_obj.split(' ')\n",
    "    listmsmt = []\n",
    "    listclass = []\n",
    "    for _ in qasm_obj:\n",
    "        if 'q' in _:\n",
    "            number = []\n",
    "            for j in range(len(_)):\n",
    "                if _[j] =='[':\n",
    "                    temp1 = _[j+1:j+3].strip(']')\n",
    "            listmsmt.append(int(temp1))\n",
    "    for _ in qasm_obj:\n",
    "        if 'c' in _:\n",
    "            number = []\n",
    "            for j in range(len(_)):\n",
    "                if _[j] =='[':\n",
    "                    temp1 = _[j+1:j+3].strip(']')\n",
    "            if temp1 == '0' and len(listclass) > 4:\n",
    "                temp1 = '5'\n",
    "            if temp1 == '1' and len(listclass) > 4:\n",
    "                temp1 = '6'\n",
    "            listclass.append(int(temp1))\n",
    "    listmsmt = sort_list(listmsmt, listclass)\n",
    "#     print(listmsmt)\n",
    "#     print(listclass)\n",
    "    return listmsmt"
   ]
  },
  {
   "cell_type": "markdown",
   "metadata": {},
   "source": [
    "### Executing the Circuits"
   ]
  },
  {
   "cell_type": "markdown",
   "metadata": {},
   "source": [
    "Circuit | Description \n",
    "---| ---\n",
    "qc0 | As shown in [6], state prepartion + stabilizer, no measurement\n",
    "qc1 | add measurements on syndrome and flag qubits\n",
    "qctom | add measurements on syndrome and flag qubits, then do state tomography on data qubits, used for tomography by both simulation and experiment\n",
    "qctom_no_anc | qctom without measurement, used for 'tom.stateTomographyFitter'\n"
   ]
  },
  {
   "cell_type": "code",
   "execution_count": 11,
   "metadata": {},
   "outputs": [],
   "source": [
    "\"\"\"\n",
    "updated: specified for low-depth circuits\n",
    "!!OLD!!executeStatePreparation(stabilizer: int, backend_type: str, mitigation: boolean)\n",
    "Variables:\n",
    "    stabilizer: 0, 1 or 2, determine which stabilizer to be chosen\n",
    "    backend_type: 'simulation', use qasm to simulate the circuit or 'experiment', use melbourne to run real quantum experiement\n",
    "    mitigation: True, use error mitigation to preprocess the results; False: no error mitigation.\n",
    "    \n",
    "Return:\n",
    "    backend_type=='simulation':\n",
    "        psi_qc, qctom, qctom_no_anc, results_sim\n",
    "\"\"\"\n",
    "def executeStatePreparation(stabilizer=0, initial_layout=None, backend_type='simulation', mitigation=True):\n",
    "    #state vector\n",
    "    q0, qc0=StatePreparation(stabilizer)\n",
    "    qc0.draw()\n",
    "    if(stabilizer==-1):#just state preparation\n",
    "        qctom = tom.state_tomography_circuits(qc0, data_list, meas_labels='Pauli', meas_basis='Pauli')\n",
    "        if(backend_type=='simulation'):\n",
    "            print('TBD')\n",
    "            return None\n",
    "        if(backend_type=='experiment'):\n",
    "            job = execute(qc0, backend_sv)\n",
    "            psi_qc = job.result().get_statevector(qc0)\n",
    "\n",
    "            max_job_count = 5\n",
    "            max_exp_per_job = 54\n",
    "            qctom_job = transpile(qctom, backend=backend, optimization_level=0, initial_layout=initial_layout)\n",
    "            job_manager = IBMQJobManager()\n",
    "            start_time = time.time()\n",
    "\n",
    "            job_set_foo = job_manager.run(qctom_job, \n",
    "                                          backend=backend, name='qctom', shots=8192, max_experiments_per_job=54)\n",
    "            job_status = job_set_foo.statuses()\n",
    "            while job_status[max_job_count-1] not in JOB_FINAL_STATES:\n",
    "                print(f'Status @ {time.time()-start_time:0.0f} s: {job_status[max_job_count-1]},'\n",
    "                   f' ')\n",
    "                time.sleep(10)\n",
    "                job_status = job_set_foo.statuses()\n",
    "\n",
    "            results_real = job_set_foo.results()   \n",
    "\n",
    "            # Create an error mitigation filter\n",
    "            if(mitigation==True):\n",
    "                measured_qubit_list = extractMsmtQubits(qctom[-1]) # assuming all the tomo circuits are identical except for basis changes\n",
    "                filt = msmtErrorMitFilter(backend, measured_qubit_list)\n",
    "                # Perform error mitigation on all the results\n",
    "                results_real_MM = msmtErrorMitOnTom(results_real, filt, backend_type='experiment', basis_list=basis)\n",
    "                results_real=results_real_MM\n",
    "                #results_real will be a dict\n",
    "            return (psi_qc, qctom_job, qctom, (results_real, job_set_foo))\n",
    "            \n",
    "    if(stabilizer==0):#ZXIXZ\n",
    "        qc1=deepcopy(qc0)\n",
    "        ca1 = ClassicalRegister(2)\n",
    "        qc1.add_register(ca1)\n",
    "        qc1.measure([q0[5],q0[6]],[ca1[0],ca1[1]])\n",
    "        job = execute(qc1, backend_sv)\n",
    "        psi_qc = job.result().get_statevector(qc1)\n",
    "\n",
    "        #qasm simulation\n",
    "        qctom = tom.state_tomography_circuits(qc0, data_list, meas_labels='Pauli', meas_basis='Pauli')\n",
    "        qctom_no_anc = deepcopy(qctom)\n",
    "        for qc in qctom:\n",
    "            ca = ClassicalRegister(2)\n",
    "            qc.add_register(ca)\n",
    "            qc.measure([q0[5],q0[6]],[ca[0],ca[1]])\n",
    "\n",
    "        # Create a noise model with the qubits being measured ------\n",
    "        # ------used for testing measurement error mitigation on the simulator\n",
    "        if(backend_type=='simulation'):\n",
    "            noise_model = noise.NoiseModel()\n",
    "            back_prop = backend.properties()\n",
    "            measured_qubit_list = extractMsmtQubits(qctom[-1])\n",
    "            for qi in range(len(measured_qubit_list)):\n",
    "                m0_p1 = back_prop.qubit_property(qi,name='prob_meas0_prep1')[0]\n",
    "                m1_p0 = back_prop.qubit_property(qi,name='prob_meas1_prep0')[0]\n",
    "                read_err = noise.errors.readout_error.ReadoutError([[1-m1_p0, m1_p0],[m0_p1,1-m0_p1]])\n",
    "                noise_model.add_readout_error(read_err, [qi])\n",
    "\n",
    "            job = execute(qctom, backend=backend_sim, optimization_level=0, shots=8192, noise_model=noise_model)\n",
    "            results_sim=job.result()\n",
    "            # Create an error mitigation filter ------\n",
    "            # ------used for testing measurement error mitigation on the simulator\n",
    "            if(mitigation==True):\n",
    "                measured_qubit_list = extractMsmtQubits(qctom[-1]) # assuming all the tomo circuits are identical except for basis changes\n",
    "                #Print(measured_qubit_list)\n",
    "                filt = msmtErrorMitFilter(backend, measured_qubit_list)\n",
    "                # Perform error mitigation on all the results\n",
    "                results_sim_MM = msmtErrorMitOnTom(results_sim, filt)\n",
    "                results_sim = results_sim_MM\n",
    "\n",
    "            return (psi_qc, qctom, qctom_no_anc, results_sim)#, tomo_qc_sim)\n",
    "\n",
    "        if(backend_type=='experiment'):\n",
    "            max_job_count = 5\n",
    "            max_exp_per_job = 54\n",
    "\n",
    "            qctom = transpile(qctom, backend=backend, optimization_level=0, initial_layout=initial_layout)\n",
    "\n",
    "            #results_real=[]\n",
    "            #tomo_qc_real=[]\n",
    "\n",
    "            job_manager = IBMQJobManager()\n",
    "            start_time = time.time()\n",
    "            #for qc in qctom:\n",
    "            job_set_foo = job_manager.run(qctom, backend=backend, name='qctom', shots=8192, max_experiments_per_job=54)\n",
    "            job_status = job_set_foo.statuses()\n",
    "            while job_status[max_job_count-1] not in JOB_FINAL_STATES:\n",
    "                print(f'Status @ {time.time()-start_time:0.0f} s: {job_status[max_job_count-1]},'\n",
    "                   f' ')\n",
    "                time.sleep(10)\n",
    "                job_status = job_set_foo.statuses()\n",
    "\n",
    "            results_real = job_set_foo.results()   \n",
    "\n",
    "            # Create an error mitigation filter\n",
    "            if(mitigation==True):\n",
    "                measured_qubit_list = extractMsmtQubits(qctom[-1]) # assuming all the tomo circuits are identical except for basis changes\n",
    "                filt = msmtErrorMitFilter(backend, measured_qubit_list)\n",
    "                # Perform error mitigation on all the results\n",
    "                results_real_MM = msmtErrorMitOnTom(results_real, filt, backend_type='experiment', basis_list=basis)\n",
    "                results_real=results_real_MM\n",
    "                #results_real will be a dict\n",
    "            return (psi_qc, qctom, qctom_no_anc, (results_real, job_set_foo))\n",
    "\n",
    "        return (psi_qc, qctom, qctom_no_anc, None)"
   ]
  },
  {
   "cell_type": "code",
   "execution_count": 12,
   "metadata": {
    "scrolled": true
   },
   "outputs": [],
   "source": [
    "sim_dict={}\n",
    "for i in range(1):\n",
    "    data = executeStatePreparation(i, mitigation=True)\n",
    "    sim_dict[i]=data\n",
    "    pickle.dump(data, open(\"0510 simulation 0 stabilizer=%d\"%i, \"wb\"))\n"
   ]
  },
  {
   "cell_type": "code",
   "execution_count": 13,
   "metadata": {},
   "outputs": [],
   "source": [
    "psi_qc_sim, qctom_sim, qctom_no_anc_sim, res_sim = sim_dict[0]"
   ]
  },
  {
   "cell_type": "code",
   "execution_count": 14,
   "metadata": {},
   "outputs": [],
   "source": [
    "basis=[]\n",
    "for i in range(243):\n",
    "    basis.append(res_sim.results[i].header.name)"
   ]
  },
  {
   "cell_type": "markdown",
   "metadata": {},
   "source": [
    "### Pre-processing"
   ]
  },
  {
   "cell_type": "code",
   "execution_count": 15,
   "metadata": {},
   "outputs": [],
   "source": [
    "def bin_format(integer, length):\n",
    "    return f'{integer:0>{length}b}'\n",
    "              \n",
    "def measurement_matrix(label, outcome):\n",
    "    if(label=='X'):\n",
    "        if(outcome=='0' or outcome==0):\n",
    "            return np.array([[0.5+0.j, 0.5+0.j], [0.5+0.j, 0.5+0.j]], dtype=complex)\n",
    "        elif(outcome=='1' or outcome==1):\n",
    "            return np.array([[ 0.5+0.j, -0.5+0.j], [-0.5+0.j,  0.5+0.j]], dtype=complex)\n",
    "    elif(label=='Y'):\n",
    "        if(outcome=='0' or outcome==0):\n",
    "            return np.array([[ 0.5+0.j, -0. -0.5j], [ 0. +0.5j,  0.5+0.j ]], dtype=complex)\n",
    "        elif(outcome=='1' or outcome==1):\n",
    "            return np.array([[ 0.5+0.j, 0. +0.5j], [-0. -0.5j,  0.5+0.j ]], dtype=complex)\n",
    "    elif(label=='Z'):\n",
    "        if(outcome=='0' or outcome==0):\n",
    "            return np.array([[1.+0.j, 0.+0.j], [0.+0.j, 0.+0.j]], dtype=complex)\n",
    "        elif(outcome=='1' or outcome==1):\n",
    "            return np.array([[0.+0.j, 0.+0.j], [0.+0.j, 1.+0.j]], dtype=complex)\n",
    "\n",
    "def _binomial_weights(counts, beta):\n",
    "    shots=np.sum(counts)\n",
    "    #beta=0.5\n",
    "    outcomes_num = len(counts)\n",
    "    # Compute hedged frequencies which are shifted to never be 0 or 1.\n",
    "    freqs_hedged = (counts+beta)/(shots+outcomes_num*beta)\n",
    "    # Return gaussian weights for 2-outcome measurements.\n",
    "    return np.sqrt(shots/(freqs_hedged*(1-freqs_hedged)))\n",
    "\n",
    "def _measurement_ops(label):#, meas_matrix_fn):\n",
    "    #print(label)\n",
    "    num_qubits=len(label)\n",
    "    #print(num_qubits)\n",
    "    meas_ops=[]\n",
    "    for outcomes in sorted(it.product((0,1), repeat=num_qubits)):# (0,0,0,0,0)...(1,1,1,1,1)\n",
    "        op=np.eye(1, dtype=complex)\n",
    "        for m, outcome in zip(reversed(label), outcomes):#'X', 0...\n",
    "            op=np.kron(op, measurement_matrix(m, outcome))\n",
    "            #op=np.kron(op, meas_matrix_fn(m, outcome))\n",
    "        meas_ops.append(op)\n",
    "    return meas_ops\n",
    "\n",
    "def _basis_operator_matrix(basis):\n",
    "    num_ops=len(basis)\n",
    "    nrows, ncols = basis[0].shape\n",
    "    size = nrows * ncols\n",
    "    ret = np.zeros((num_ops, size), dtype=complex)\n",
    "    for j, b in enumerate(basis):\n",
    "        ret[j] = np.array(b).reshape((1, size), order='F').conj()\n",
    "    return ret\n",
    "\n",
    "def preprocessing(result, basis_list=None, size=7):#result could be res_sim_M\n",
    "    data={}\n",
    "    #print(type(result))\n",
    "    if(basis_list==None):\n",
    "        res=result.results\n",
    "        for i in range(243):\n",
    "            data[res[i].header.name]=result.get_counts(i) \n",
    "    else:\n",
    "        if(type(result)==dict):\n",
    "            data = result\n",
    "        else:\n",
    "            for i in range(243):\n",
    "                data[basis_list[i]]=result.get_counts(i)\n",
    "    data_fit={}\n",
    "    for basis in data.keys():\n",
    "        tup=literal_eval(basis)\n",
    "        counts=data[basis]\n",
    "        if(data_fit.get(tup, 0)!=0):\n",
    "            data_fit[tup]=combine_counts(data_fit[tup], counts)\n",
    "        else:\n",
    "            data_fit[tup]=counts\n",
    "    return data_fit\n",
    "#return: data_sim_fit\n",
    "\n",
    "\"\"\"\n",
    "fitter_data(data)\n",
    "    Modified from [TomographyFitter's built-in method _fitter_data()](https://github.com/Qiskit/qiskit-ignis/blob/dd2c9265603329662f67a59a0e47744685b430d0/qiskit/ignis/verification/tomography/fitters/base_fitter.py)\n",
    "    Variable: \n",
    "    Return:\n",
    "        A tuple(fit_list, basis_blocks, weights)\n",
    "        fit_list: list of int(no error mitigation) or float(with error mitigation) (length=243*32)\n",
    "        basis_blocks: list of (32, 1024) ndarrays, length=243\n",
    "        weights: list of float, length=243*32\n",
    "\"\"\"\n",
    "def fitter_data(data, sf='00', size=7):#data_sim_fit\n",
    "    #self._meas_basis!=None\n",
    "    #measurement=meas_basis.measurement_matrix\n",
    "    #self._prep_basis==None\n",
    "    preparation=None\n",
    "    fit_list=[]\n",
    "    basis_blocks=[]\n",
    "    weights=[]#standard_weights=True\n",
    "    wts=0\n",
    "    cts=0\n",
    "    #Generate counts keys for converting to np array - is_qpt=false\n",
    "    ctkeys=count_keys(5) #len(label), 5 for [[5,1,3]]\n",
    "\n",
    "    for label, cts in data.items():\n",
    "        # Convert counts dict to numpy array#only results with 00 outcomes are kept\n",
    "        if(size==7):\n",
    "            cts=np.array([cts.get(sf+' '+key, 0) for key in ctkeys])#'00 '+key, 0) for key in ctkeys])\n",
    "        else:\n",
    "            cts=np.array([cts.get(key, 0) for key in ctkeys])\n",
    "        # Get probabilities\n",
    "        shots=np.sum(cts)\n",
    "        probs=np.array(cts)/shots\n",
    "        fit_list+=list(probs)\n",
    "        # Compute binomial weights - standard_weights is True\n",
    "        wts=_binomial_weights(cts, 0.5)\n",
    "        weights+=list(wts)\n",
    "              \n",
    "        # Get reconstruction basis operators - TBD\n",
    "        prep_label=None\n",
    "        meas_label=label\n",
    "        #print(meas_label)\n",
    "        prep_op=np.eye(1, dtype=complex)\n",
    "        meas_ops=_measurement_ops(meas_label)#, measurement)\n",
    "\n",
    "        block=_basis_operator_matrix([np.kron(prep_op.T, mop) for mop in meas_ops])\n",
    "        basis_blocks.append(block)\n",
    "\n",
    "    basis_blocks=np.vstack(basis_blocks)\n",
    "    return fit_list, basis_blocks, weights"
   ]
  },
  {
   "cell_type": "markdown",
   "metadata": {},
   "source": [
    "## Fidelity"
   ]
  },
  {
   "cell_type": "code",
   "execution_count": 16,
   "metadata": {},
   "outputs": [],
   "source": [
    "\"\"\"\n",
    "fidelity(data)\n",
    "Variable\n",
    "    data: A tuple (psi_qc, qctom, qctom_no_anc, res) for both simulation and experiment, should be 'dict[i](i=0, 1 or 2)' if the cells above are used.\n",
    "    sf: syndrom & flag outcomes, '00', '01', '10', or '11'\n",
    "Return:\n",
    "    fidelity: a float number\n",
    "\"\"\"\n",
    "def fidelity(data, sf='00', backend_type='simulation', basis_list=None, size=7, returnReconstruction=False):\n",
    "    psi_qc, qctom, qctom_no_anc, res= data\n",
    "    if(backend_type=='simulation'):\n",
    "        data_fit=preprocessing(res)\n",
    "        fit_list, basis_blocks, weights=fitter_data(data_fit, sf=sf, size=size)\n",
    "        #lstsq, result=(32, 32) ndarray\n",
    "        result=lstsq_fit.lstsq_fit(fit_list, basis_blocks, weights=weights, psd=True, trace=1)\n",
    "        if(returnReconstruction):\n",
    "            return result\n",
    "        return state_fidelity(result, reduced(psi_qc,sf))\n",
    "    if(backend_type=='experiment'):\n",
    "        data_fit=preprocessing(res, basis_list=basis_list, size=size)\n",
    "        #print(data_fit)\n",
    "        fit_list, basis_blocks, weights=fitter_data(data_fit, sf=sf, size=size)\n",
    "        #lstsq, result=(32, 32) ndarray\n",
    "        result=lstsq_fit.lstsq_fit(fit_list, basis_blocks, weights=weights, psd=True, trace=1)\n",
    "        if(returnReconstruction):\n",
    "            return result\n",
    "        return state_fidelity(result, reduced(psi_qc,sf))"
   ]
  },
  {
   "cell_type": "code",
   "execution_count": 30,
   "metadata": {},
   "outputs": [],
   "source": [
    "def gate_time(back_dict):\n",
    "    gate_dict={}\n",
    "    for gate in back_dict['gates']:\n",
    "        #print(gate)\n",
    "        for param in gate['parameters']:\n",
    "            #print(param)\n",
    "            if(param['name']=='gate_length'):\n",
    "                length=param['value']\n",
    "                gate_dict[(gate['gate'], tuple(gate['qubits']))]=length\n",
    "                break\n",
    "    return gate_dict"
   ]
  },
  {
   "cell_type": "code",
   "execution_count": 84,
   "metadata": {},
   "outputs": [
    {
     "name": "stdout",
     "output_type": "stream",
     "text": [
      "0510 no mitigation round=1 circuit=2.pickle\n",
      "0.027457589612389054\n",
      "7583.999999999999\n"
     ]
    },
    {
     "data": {
      "text/plain": [
       "<Figure size 432x288 with 0 Axes>"
      ]
     },
     "execution_count": 84,
     "metadata": {},
     "output_type": "execute_result"
    },
    {
     "data": {
      "image/png": "[encoded data removed]",
      "text/plain": [
       "<Figure size 432x288 with 8 Axes>"
      ]
     },
     "metadata": {
      "needs_background": "light"
     },
     "output_type": "display_data"
    },
    {
     "data": {
      "text/plain": [
       "<Figure size 432x288 with 0 Axes>"
      ]
     },
     "metadata": {},
     "output_type": "display_data"
    }
   ],
   "source": [
    "grid = plt.GridSpec(2, 4, wspace=2, hspace=0)\n",
    "cnt=1\n",
    "for Round in [1]:#,2,3,4]:\n",
    "    filename=\"0510 no mitigation round=%d circuit=2.pickle\" % (Round)\n",
    "    print(filename)\n",
    "    _, data_new, back_prop = pickle.load(open(filename, \"rb\"))\n",
    "    print(fidelity(data_new, sf='00', backend_type='experiment', basis_list=basis,size=7))\n",
    "    psi_qc_new, qctom_new, qctom_no_anc_new, res_new=data_new\n",
    "    gate_dict=gate_time(back_prop.to_dict())\n",
    "    qctom_new_instruction=qctom_new[-1].to_instruction()\n",
    "    wire_time = np.zeros(15)\n",
    "    for i in range(len(qctom_new_instruction.definition)-5):#-5: omit the last five measurement operations\n",
    "        gate, qubit, _=qctom_new_instruction.definition[i]\n",
    "        if(gate.name=='measure' or gate.name=='barrier'):\n",
    "            continue\n",
    "        index=[qubit[j].index for j in range(len(qubit))]\n",
    "        #print(gate.name,index,gate_dict[(gate.name, tuple(index))])\n",
    "        max_tmp=0\n",
    "        for ind in index:\n",
    "            if(wire_time[ind]>max_tmp):\n",
    "                max_tmp=wire_time[ind]\n",
    "        for ind in index:\n",
    "            wire_time[ind]=max_tmp+gate_dict[(gate.name, tuple(index))]\n",
    "    print(np.max(wire_time))\n",
    "    #print(wire_time)\n",
    "    for cnt, sf in enumerate(['00','01','10','11']):\n",
    "        #print(cnt, sf)\n",
    "        reconstructed_dm=fidelity(data_new, sf=sf, backend_type='experiment', basis_list=basis,size=7, returnReconstruction=True)\n",
    "        plt.subplot(grid[(cnt*2+0)//4,(cnt*2+0)%4]).imshow(np.real(reconstructed_dm), cmap='hot', interpolation='nearest')\n",
    "        plt.subplot(grid[(cnt*2+0)//4,(cnt*2+0)%4]).set_title(sf+' real')\n",
    "        plt.subplot(grid[(cnt*2+1)//4,(cnt*2+1)%4]).imshow(np.imag(reconstructed_dm), cmap='hot', interpolation='nearest')\n",
    "        plt.subplot(grid[(cnt*2+1)//4,(cnt*2+1)%4]).set_title(sf+' imag')\n",
    "\n",
    "    \n",
    "plt.figure()"
   ]
  },
  {
   "cell_type": "markdown",
   "metadata": {},
   "source": [
    "Time for one stabilizer: $5056\\mu s$"
   ]
  },
  {
   "cell_type": "code",
   "execution_count": 44,
   "metadata": {},
   "outputs": [],
   "source": [
    "sil=[\n",
    "    (-1, (1,2,3,11,12)),\n",
    "    (-1, (11,12,13,1,2)),\n",
    "    (0,  (11,12,13,1,2,3,4)),\n",
    "    (-2, (1,2,3,11,12)),\n",
    "    (-2, (11,12,13,1,2)),\n",
    "]"
   ]
  },
  {
   "cell_type": "code",
   "execution_count": 43,
   "metadata": {},
   "outputs": [
    {
     "name": "stdout",
     "output_type": "stream",
     "text": [
      "Round= 0 circuit= 0 initial_layout= (1, 2, 3, 11, 12)\n",
      "0.04361347368412695\n",
      "Circuit time: 6126.222222222215\n",
      "Round= 0 circuit= 1 initial_layout= (11, 12, 13, 1, 2)\n",
      "0.05515835190437418\n",
      "Circuit time: 6538.666666666658\n",
      "Round= 1 circuit= 0 initial_layout= (1, 2, 3, 11, 12)\n",
      "0.04229279175228915\n",
      "Circuit time: 6126.222222222215\n",
      "Round= 1 circuit= 1 initial_layout= (11, 12, 13, 1, 2)\n",
      "0.05519039807341851\n",
      "Circuit time: 6538.666666666658\n"
     ]
    }
   ],
   "source": [
    "#Correctly Extended (81 Identity gates) Circuit for just state preparation\n",
    "for Rc in [(0,0), (0,1), (1,0), (1,1)]:\n",
    "    Round, circuit=Rc\n",
    "    print('Round=', Round, 'circuit=', circuit, 'initial_layout=', sil[circuit][1])\n",
    "    _, data, back_prop=pickle.load(open(\"0511 no mitigation rightExtendedCircuit(81 id) round=%d circuit=%d.pickle\" % (Round, circuit),\"rb\"))\n",
    "    print(fidelity(data, sf='00', backend_type='experiment', basis_list=basis,size=5))\n",
    "    psi_qc_pure, qctom_job_pure, qctom_pure, res_pure = data\n",
    "\n",
    "    gate_dict=gate_time(back_prop.to_dict())\n",
    "    qctom_instruction=qctom_job_pure[-1].to_instruction()\n",
    "    wire_time = np.zeros(15)\n",
    "    for i in range(len(qctom_instruction.definition)-5):#-5: omit the last five measurement operations\n",
    "        gate, qubit, _=qctom_instruction.definition[i]\n",
    "        if(gate.name=='measure' or gate.name=='barrier'):\n",
    "            continue\n",
    "        index=[qubit[j].index for j in range(len(qubit))]\n",
    "        #print(gate.name,index,gate_dict[(gate.name, tuple(index))])\n",
    "        max_tmp=0\n",
    "        for ind in index:\n",
    "            if(wire_time[ind]>max_tmp):\n",
    "                max_tmp=wire_time[ind]\n",
    "        for ind in index:\n",
    "            wire_time[ind]=max_tmp+gate_dict[(gate.name, tuple(index))]\n",
    "    print('Circuit time:', np.max(wire_time))\n",
    "    #print(wire_time)\n",
    "    "
   ]
  },
  {
   "cell_type": "code",
   "execution_count": 62,
   "metadata": {},
   "outputs": [
    {
     "name": "stdout",
     "output_type": "stream",
     "text": [
      "Round= 0 circuit= 0 initial_layout= (1, 2, 3, 11, 12)\n",
      "Round= 0 circuit= 1 initial_layout= (11, 12, 13, 1, 2)\n"
     ]
    },
    {
     "data": {
      "image/png": "[encoded data removed]",
      "text/plain": [
       "<Figure size 432x288 with 4 Axes>"
      ]
     },
     "metadata": {
      "needs_background": "light"
     },
     "output_type": "display_data"
    }
   ],
   "source": [
    "#Correctly Extended (81 Identity gates) Circuit for just state preparation\n",
    "grid = plt.GridSpec(2, 2, wspace=1, hspace=1)\n",
    "cnt=0\n",
    "for Rc in [(0,0), (0,1)]:#, (1,0), (1,1)]:\n",
    "    Round, circuit=Rc\n",
    "    print('Round=', Round, 'circuit=', circuit, 'initial_layout=', sil[circuit][1])\n",
    "    _, data, back_prop=pickle.load(open(\"0511 no mitigation rightExtendedCircuit(81 id) round=%d circuit=%d.pickle\" % (Round, circuit),\"rb\"))\n",
    "    reconstructed_dm=fidelity(data, backend_type='experiment', basis_list=basis,size=5, returnReconstruction=True)\n",
    "    plt.subplot(grid[circuit,0]).imshow(np.real(reconstructed_dm), cmap='hot', interpolation='nearest')\n",
    "    plt.subplot(grid[circuit,0]).set_title('Reconstruction result, real part\\n layout=%s' % (str(sil[circuit][1])))\n",
    "    plt.subplot(grid[circuit,1]).imshow(np.imag(reconstructed_dm), cmap='hot', interpolation='nearest')\n",
    "    plt.subplot(grid[circuit,1]).set_title('Reconstruction result, imag part\\n layout=%s' % (str(sil[circuit][1])))\n",
    "    cnt+=1\n",
    "    psi_qc_pure, qctom_job_pure, qctom_pure, res_pure = data\n",
    "plt.show()"
   ]
  },
  {
   "cell_type": "code",
   "execution_count": 82,
   "metadata": {},
   "outputs": [
    {
     "name": "stdout",
     "output_type": "stream",
     "text": [
      "Round= 0 circuit= 3 initial_layout= (1, 2, 3, 11, 12)\n",
      "0.4375598736931011\n",
      "Circuit time: 2904.8888888888887\n",
      "Round= 0 circuit= 4 initial_layout= (11, 12, 13, 1, 2)\n",
      "0.3853108986970224\n",
      "Circuit time: 3264.0\n"
     ]
    }
   ],
   "source": [
    "for Rc in [(0,3), (0,4)]:#(1,3), (1,4)\n",
    "    Round, circuit=Rc\n",
    "    print('Round=', Round, 'circuit=', circuit, 'initial_layout=', sil[circuit][1])\n",
    "    _, data, back_prop=pickle.load(open(\"0511 with mitigation no extension round=%d circuit=%d.pickle\" % (Round, circuit),\"rb\"))\n",
    "    print(fidelity(data, sf='00', backend_type='experiment', basis_list=basis,size=5))\n",
    "    psi_qc_pure, qctom_job_pure, qctom_pure, res_pure = data\n",
    "\n",
    "    gate_dict=gate_time(back_prop.to_dict())\n",
    "    qctom_instruction=qctom_job_pure[-1].to_instruction()\n",
    "    wire_time = np.zeros(15)\n",
    "    for i in range(len(qctom_instruction.definition)-5):#-5: omit the last five measurement operations\n",
    "        gate, qubit, _=qctom_instruction.definition[i]\n",
    "        if(gate.name=='measure' or gate.name=='barrier'):\n",
    "            continue\n",
    "        index=[qubit[j].index for j in range(len(qubit))]\n",
    "        #print(gate.name,index,gate_dict[(gate.name, tuple(index))])\n",
    "        max_tmp=0\n",
    "        for ind in index:\n",
    "            if(wire_time[ind]>max_tmp):\n",
    "                max_tmp=wire_time[ind]\n",
    "        for ind in index:\n",
    "            wire_time[ind]=max_tmp+gate_dict[(gate.name, tuple(index))]\n",
    "    print('Circuit time:', np.max(wire_time))\n",
    "    #print(wire_time)\n",
    "    "
   ]
  },
  {
   "cell_type": "code",
   "execution_count": 18,
   "metadata": {},
   "outputs": [],
   "source": [
    "reconstruction4_01=fidelity(data_new, sf='01', backend_type='experiment', basis_list=basis,size=7, returnReconstruction=True)\n",
    "reconstruction4_01=reconstruction4_01/reconstruction4_01[0][0]"
   ]
  },
  {
   "cell_type": "code",
   "execution_count": 19,
   "metadata": {},
   "outputs": [],
   "source": [
    "reconstruction4_10=fidelity(data_new, sf='10', backend_type='experiment', basis_list=basis,size=7, returnReconstruction=True)\n",
    "reconstruction4_10=reconstruction4_10/reconstruction4_10[0][0]"
   ]
  },
  {
   "cell_type": "code",
   "execution_count": 45,
   "metadata": {},
   "outputs": [],
   "source": [
    "reconstruction4_00=fidelity(data_new, sf='00', backend_type='experiment', basis_list=basis,size=7, returnReconstruction=True)\n",
    "#reconstruction4_00=reconstruction4_00/reconstruction4_00[0][0]"
   ]
  },
  {
   "cell_type": "code",
   "execution_count": 21,
   "metadata": {},
   "outputs": [],
   "source": [
    "psi_qc_1, qctom_1, qctom_no_anc_1, res_1= data_new\n",
    "psi_reduced=reduced(psi_qc_1, '00').reshape(32,1)\n",
    "ideal_dm=np.dot(psi_reduced, psi_reduced.conj().T)"
   ]
  },
  {
   "cell_type": "code",
   "execution_count": 22,
   "metadata": {},
   "outputs": [
    {
     "data": {
      "text/plain": [
       "<matplotlib.image.AxesImage at 0x247a39b0588>"
      ]
     },
     "execution_count": 22,
     "metadata": {},
     "output_type": "execute_result"
    },
    {
     "data": {
      "image/png": "[encoded data removed]",
      "text/plain": [
       "<Figure size 432x288 with 1 Axes>"
      ]
     },
     "metadata": {
      "needs_background": "light"
     },
     "output_type": "display_data"
    }
   ],
   "source": [
    "plt.imshow(np.real(reconstruction4_00), cmap='hot', interpolation='nearest')"
   ]
  },
  {
   "cell_type": "code",
   "execution_count": 23,
   "metadata": {},
   "outputs": [
    {
     "data": {
      "text/plain": [
       "<matplotlib.image.AxesImage at 0x247a43b1828>"
      ]
     },
     "execution_count": 23,
     "metadata": {},
     "output_type": "execute_result"
    },
    {
     "data": {
      "image/png": "[encoded data removed]",
      "text/plain": [
       "<Figure size 432x288 with 1 Axes>"
      ]
     },
     "metadata": {
      "needs_background": "light"
     },
     "output_type": "display_data"
    }
   ],
   "source": [
    "plt.imshow(np.real(reconstruction4_01), cmap='hot', interpolation='nearest')"
   ]
  },
  {
   "cell_type": "code",
   "execution_count": 80,
   "metadata": {},
   "outputs": [
    {
     "data": {
      "text/plain": [
       "<matplotlib.image.AxesImage at 0x247b83ddb00>"
      ]
     },
     "execution_count": 80,
     "metadata": {},
     "output_type": "execute_result"
    },
    {
     "data": {
      "image/png": "[encoded data removed]",
      "text/plain": [
       "<Figure size 432x288 with 1 Axes>"
      ]
     },
     "metadata": {
      "needs_background": "light"
     },
     "output_type": "display_data"
    }
   ],
   "source": [
    "plt.imshow(np.real(ideal_dm), cmap='hot', interpolation='nearest')"
   ]
  },
  {
   "cell_type": "code",
   "execution_count": 79,
   "metadata": {},
   "outputs": [
    {
     "data": {
      "text/plain": [
       "<matplotlib.image.AxesImage at 0x247b8888438>"
      ]
     },
     "execution_count": 79,
     "metadata": {},
     "output_type": "execute_result"
    },
    {
     "data": {
      "image/png": "[encoded data removed]",
      "text/plain": [
       "<Figure size 432x288 with 1 Axes>"
      ]
     },
     "metadata": {
      "needs_background": "light"
     },
     "output_type": "display_data"
    }
   ],
   "source": [
    "plt.imshow(np.imag(ideal_dm), cmap='hot', interpolation='nearest')"
   ]
  },
  {
   "cell_type": "markdown",
   "metadata": {},
   "source": [
    "## Try to do better post-processing - averaged one-qubit error could behave like partial depolarizing channel"
   ]
  },
  {
   "cell_type": "code",
   "execution_count": 25,
   "metadata": {},
   "outputs": [],
   "source": [
    "phi_134={}\n",
    "phi_134['00']=np.array([ 1, 1, 1, 1, 1,-1, 1,-1]).reshape(8,1)\n",
    "phi_134['01']=np.array([ 1,-1,-1, 1, 1, 1,-1,-1]).reshape(8,1)\n",
    "phi_134['10']=np.array([ 1, 1,-1,-1,-1, 1, 1,-1]).reshape(8,1)\n",
    "phi_134['11']=np.array([ 1,-1, 1,-1,-1,-1,-1,-1]).reshape(8,1)"
   ]
  },
  {
   "cell_type": "code",
   "execution_count": 26,
   "metadata": {},
   "outputs": [],
   "source": [
    "for i in range(32):\n",
    "    bit=bin_format(i,5)\n",
    "    b25=bit[1]+bit[0]"
   ]
  }
 ],
 "metadata": {
  "kernelspec": {
   "display_name": "Python 3",
   "language": "python",
   "name": "python3"
  },
  "language_info": {
   "codemirror_mode": {
    "name": "ipython",
    "version": 3
   },
   "file_extension": ".py",
   "mimetype": "text/x-python",
   "name": "python",
   "nbconvert_exporter": "python",
   "pygments_lexer": "ipython3",
   "version": "3.7.3"
  }
 },
 "nbformat": 4,
 "nbformat_minor": 2
}
