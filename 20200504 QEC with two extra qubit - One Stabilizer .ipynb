{
 "cells": [
  {
   "cell_type": "code",
   "execution_count": 1,
   "metadata": {},
   "outputs": [],
   "source": [
    "%matplotlib inline\n",
    "# Importing standard Qiskit libraries and configuring account\n",
    "from qiskit import QuantumCircuit, execute, Aer, IBMQ\n",
    "from qiskit import QuantumRegister, ClassicalRegister\n",
    "from qiskit.compiler import transpile, assemble\n",
    "from qiskit.tools.jupyter import *\n",
    "from qiskit.visualization import *\n",
    "from qiskit.circuit import Parameter\n",
    "\n",
    "import qiskit.ignis.verification.tomography as tom\n",
    "from qiskit.providers.ibmq.managed import IBMQJobManager\n",
    "from qiskit.providers.jobstatus import JOB_FINAL_STATES\n",
    "from qiskit.quantum_info import state_fidelity\n",
    "from qiskit.providers.aer import noise\n",
    "\n",
    "# Importing other packages\n",
    "import pickle\n",
    "import numpy as np\n",
    "\n",
    "# Loading your IBM Q account(s)\n",
    "provider = IBMQ.load_account()"
   ]
  },
  {
   "cell_type": "code",
   "execution_count": 2,
   "metadata": {},
   "outputs": [],
   "source": [
    "from copy import deepcopy"
   ]
  },
  {
   "cell_type": "code",
   "execution_count": 3,
   "metadata": {},
   "outputs": [
    {
     "name": "stdout",
     "output_type": "stream",
     "text": [
      "ibmq_qasm_simulator\n",
      "ibmqx2\n",
      "ibmq_16_melbourne\n",
      "ibmq_vigo\n",
      "ibmq_ourense\n",
      "ibmq_london\n",
      "ibmq_burlington\n",
      "ibmq_essex\n",
      "ibmq_armonk\n",
      "ibmq_athens\n",
      "ibmq_rome\n",
      "---\n",
      "qasm_simulator\n",
      "statevector_simulator\n",
      "unitary_simulator\n",
      "pulse_simulator\n"
     ]
    }
   ],
   "source": [
    "print('\\n'.join([str(x) for x in provider.backends()]))\n",
    "print('---')\n",
    "print('\\n'.join([str(x) for x in Aer.backends()]))\n",
    "backend=provider.get_backend('ibmq_16_melbourne')\n",
    "backend_sim=provider.get_backend('ibmq_qasm_simulator')\n",
    "backend_sv=Aer.get_backend('statevector_simulator')"
   ]
  },
  {
   "cell_type": "code",
   "execution_count": 4,
   "metadata": {},
   "outputs": [],
   "source": [
    "data_list=[0,1,2,3,4]\n",
    "syn=[5]\n",
    "flag=[6]"
   ]
  },
  {
   "cell_type": "code",
   "execution_count": 5,
   "metadata": {},
   "outputs": [],
   "source": [
    "def StatePreparation(stabilizer=0):\n",
    "    q = QuantumRegister(7)\n",
    "    qc = QuantumCircuit(q)\n",
    "    #prepare the 5-qubit graph state\n",
    "    qc.h(q[0])\n",
    "    qc.h(q[1])\n",
    "    qc.h(q[2])\n",
    "    qc.h(q[3])\n",
    "    qc.h(q[4])\n",
    "    qc.cz(q[0],q[1])\n",
    "    qc.cz(q[2],q[3])\n",
    "    qc.cz(q[1],q[2])\n",
    "    qc.cz(q[3],q[4])\n",
    "    qc.cz(q[0],q[4])\n",
    "    #syndrome and flag extraction\n",
    "    #stabilizer order: from left to right, Fig 2(a), SM of two extra qubits\n",
    "    if(stabilizer==0):\n",
    "        #first stabilizer \n",
    "        qc.h(q[5])\n",
    "        qc.cx(q[5],q[0])\n",
    "        qc.cx(q[5],q[6])\n",
    "        qc.cz(q[1],q[5])\n",
    "        qc.cx(q[5],q[6])\n",
    "        qc.cz(q[4],q[5])\n",
    "        qc.h(q[5])\n",
    "    elif(stabilizer==1):\n",
    "    #second stabilizer\n",
    "        qc.h(q[5])\n",
    "        qc.cz(q[0],q[5])\n",
    "        qc.cx(q[5],q[6])\n",
    "        qc.cx(q[5],q[1])\n",
    "        qc.cx(q[5],q[6])\n",
    "        qc.cz(q[2],q[5])\n",
    "        qc.h(q[5])\n",
    "    elif(stabilizer==2):\n",
    "        #third stabilizer\n",
    "        qc.h(q[5])\n",
    "        qc.cx(q[5],q[3])\n",
    "        qc.cx(q[5],q[6])\n",
    "        qc.cz(q[2],q[5])\n",
    "        qc.cx(q[5],q[6])\n",
    "        qc.cz(q[4],q[5])\n",
    "        qc.h(q[5])\n",
    "    #measure syndrome and flag & do state tomography for the data qubits\n",
    "    qc.barrier()\n",
    "    #qc.measure(q[5],c[5])\n",
    "    #qc.measure(q[6],c[6])\n",
    "    return q, qc"
   ]
  },
  {
   "cell_type": "code",
   "execution_count": 6,
   "metadata": {},
   "outputs": [
    {
     "data": {
      "text/html": [
       "<pre style=\"word-wrap: normal;white-space: pre;background: #fff0;line-height: 1.1;font-family: &quot;Courier New&quot;,Courier,monospace\">      ┌───┐         ┌───┐                      ░ \n",
       "q0_0: ┤ H ├─■─────■─┤ X ├──────────────────────░─\n",
       "      ├───┤ │     │ └─┬─┘                      ░ \n",
       "q0_1: ┤ H ├─■──■──┼───┼────────■───────────────░─\n",
       "      ├───┤    │  │   │        │               ░ \n",
       "q0_2: ┤ H ├─■──■──┼───┼────────┼───────────────░─\n",
       "      ├───┤ │     │   │        │               ░ \n",
       "q0_3: ┤ H ├─■──■──┼───┼────────┼───────────────░─\n",
       "      ├───┤    │  │   │        │               ░ \n",
       "q0_4: ┤ H ├────■──■───┼────────┼───────■───────░─\n",
       "      ├───┤           │        │       │ ┌───┐ ░ \n",
       "q0_5: ┤ H ├───────────■────■───■───■───■─┤ H ├─░─\n",
       "      └───┘              ┌─┴─┐   ┌─┴─┐   └───┘ ░ \n",
       "q0_6: ───────────────────┤ X ├───┤ X ├─────────░─\n",
       "                         └───┘   └───┘         ░ </pre>"
      ],
      "text/plain": [
       "      ┌───┐         ┌───┐                      ░ \n",
       "q0_0: ┤ H ├─■─────■─┤ X ├──────────────────────░─\n",
       "      ├───┤ │     │ └─┬─┘                      ░ \n",
       "q0_1: ┤ H ├─■──■──┼───┼────────■───────────────░─\n",
       "      ├───┤    │  │   │        │               ░ \n",
       "q0_2: ┤ H ├─■──■──┼───┼────────┼───────────────░─\n",
       "      ├───┤ │     │   │        │               ░ \n",
       "q0_3: ┤ H ├─■──■──┼───┼────────┼───────────────░─\n",
       "      ├───┤    │  │   │        │               ░ \n",
       "q0_4: ┤ H ├────■──■───┼────────┼───────■───────░─\n",
       "      ├───┤           │        │       │ ┌───┐ ░ \n",
       "q0_5: ┤ H ├───────────■────■───■───■───■─┤ H ├─░─\n",
       "      └───┘              ┌─┴─┐   ┌─┴─┐   └───┘ ░ \n",
       "q0_6: ───────────────────┤ X ├───┤ X ├─────────░─\n",
       "                         └───┘   └───┘         ░ "
      ]
     },
     "execution_count": 6,
     "metadata": {},
     "output_type": "execute_result"
    }
   ],
   "source": [
    "q, qc=StatePreparation(0)\n",
    "qc.draw()"
   ]
  },
  {
   "cell_type": "markdown",
   "metadata": {},
   "source": [
    "To keep the consistence, the following blocks are mainly from `test state prep.ipynb`"
   ]
  },
  {
   "cell_type": "code",
   "execution_count": 7,
   "metadata": {},
   "outputs": [],
   "source": [
    "import time"
   ]
  },
  {
   "cell_type": "markdown",
   "metadata": {},
   "source": [
    "Based on https://github.com/Qiskit/qiskit-tutorials/blob/master/legacy_tutorials/ignis/6a_state_tomography.ipynb?fbclid=IwAR1Pf1nH2CBPUWDdsa_xBiYs1kYDu8hwI9dVvr63z7ypmhy2UlR6QpMgJWc, 2-Qubit Conditional State Tomography"
   ]
  },
  {
   "cell_type": "markdown",
   "metadata": {},
   "source": [
    "we should have projected the ideal final state to the final state, 'reduced(v,sf)' returns the projected states based on 'sf'. At the moment, for the simulation result, 'sf' can only be '00' and the func returns the first 32 elements of v."
   ]
  },
  {
   "cell_type": "code",
   "execution_count": 8,
   "metadata": {},
   "outputs": [],
   "source": [
    "def reduced(v, sf):\n",
    "    s=int(sf[0])\n",
    "    f=int(sf[1])\n",
    "    out=s*2+f\n",
    "    res=[]\n",
    "    for i in range(v.shape[0]):\n",
    "        if((i>>5)==out):#((i%4)==out):#\n",
    "            res.append(v[i])\n",
    "    res=np.array(res)\n",
    "    res=res/np.sqrt(np.sum(np.power(np.abs(res),2)))\n",
    "    return np.array(res)"
   ]
  },
  {
   "cell_type": "markdown",
   "metadata": {},
   "source": [
    "## Main part"
   ]
  },
  {
   "cell_type": "markdown",
   "metadata": {},
   "source": [
    "Circuit | Description \n",
    "---| ---\n",
    "qc0 | As shown in [6], state prepartion + stabilizer, no measurement\n",
    "qc1 | add measurements on syndrome and flag qubits\n",
    "qctom | add measurements on syndrome and flag qubits, then do state tomography on data qubits, used for tomography by both simulation and experiment\n",
    "qctom_no_anc | qctom without measurement, used for 'tom.stateTomographyFitter'\n"
   ]
  },
  {
   "cell_type": "code",
   "execution_count": 10,
   "metadata": {},
   "outputs": [],
   "source": [
    "def executeStatePreparation(stabilizer=0):\n",
    "    #state vector\n",
    "    q0, qc0=StatePreparation(stabilizer)\n",
    "    qc0.draw()\n",
    "    \n",
    "    qc1=deepcopy(qc0)\n",
    "    ca1 = ClassicalRegister(2)\n",
    "    qc1.add_register(ca1)\n",
    "    qc1.measure([q0[5],q0[6]],[ca1[0],ca1[1]])\n",
    "    job = execute(qc1, backend_sv)\n",
    "    psi_qc = job.result().get_statevector(qc1)\n",
    "    #qasm simulation\n",
    "    qctom = tom.state_tomography_circuits(qc0, data_list, meas_labels='Pauli', meas_basis='Pauli')\n",
    "    qctom_no_anc = deepcopy(qctom)\n",
    "    for qc in qctom:\n",
    "        ca = ClassicalRegister(2)\n",
    "        qc.add_register(ca)\n",
    "        qc.measure([q0[5],q0[6]],[ca[0],ca[1]])\n",
    "        \n",
    "    job = execute(qctom, backend=backend_sim, optimization_level=0, shots=4096)\n",
    "    results_sim=job.result()\n",
    "\n",
    "    #strip the registers for syndrome and flag extraction\n",
    "    result_sf={}\n",
    "    for sf in ['00','01','10','11']:\n",
    "            #outcomes: 00,01,10,11\n",
    "            new_result = deepcopy(results_sim)\n",
    "\n",
    "            for resultidx, _ in enumerate(results_sim.results):\n",
    "                old_counts = results_sim.get_counts(resultidx)\n",
    "                new_counts = {}\n",
    "\n",
    "                #change the size of the classical register\n",
    "                new_result.results[resultidx].header.creg_sizes = [new_result.results[resultidx].header.creg_sizes[0]]\n",
    "                new_result.results[resultidx].header.clbit_labels = new_result.results[resultidx].header.clbit_labels[0:-2]\n",
    "                new_result.results[resultidx].header.memory_slots = 5\n",
    "\n",
    "                for reg_key in old_counts:\n",
    "                    reg_bits = reg_key.split(' ')\n",
    "                    if (reg_bits[0]==sf):#reg_key is in the form like '00 10011', reg_bts[0]='00'\n",
    "                        new_counts[reg_bits[1]]=old_counts[reg_key]\n",
    "\n",
    "                new_result.results[resultidx].data.counts = \\\n",
    "                    new_result.results[resultidx]. \\\n",
    "                    data.counts.from_dict(new_counts)\n",
    "\n",
    "                result_sf[sf]=new_result\n",
    "\n",
    "    #send the results to the state tomography filter\n",
    "    \n",
    "    tomo_qc_sim={}\n",
    "    for sf in ['00','01','10','11']:\n",
    "        tomo_qc_sim_sf = tom.StateTomographyFitter(result_sf[sf], qctom_no_anc, meas_basis='Pauli')\n",
    "        tomo_qc_sim[sf]=tomo_qc_sim_sf\n",
    "    \n",
    "#     max_job_count = 5\n",
    "#     max_exp_per_job = 54\n",
    "#     qctom = tom.state_tomography_circuits(qc0, data_list, meas_labels='Pauli', meas_basis='Pauli')\n",
    "#     \"\"\" already measured 5,6 in qctom above\n",
    "#     for qc in qctom:\n",
    "#         ca = ClassicalRegister(2)\n",
    "#         qc.add_register(ca)\n",
    "#         qc.measure([q0[5],q0[6]],[ca[0],ca[1]])\n",
    "#     \"\"\"\n",
    "#     qctom = transpile(qctom, backend=backend)\n",
    "    \n",
    "#     #results_real=[]\n",
    "#     #tomo_qc_real=[]\n",
    "    \n",
    "#     job_manager = IBMQJobManager()\n",
    "#     start_time = time.time()\n",
    "#     #for qc in qctom:\n",
    "#     job_set_foo = job_manager.run(qctom, backend=backend, name='qctom', shots=2048, max_experiments_per_job=54)\n",
    "#     job_status = job_set_foo.statuses()\n",
    "#     while job_status[max_job_count-1] not in JOB_FINAL_STATES:\n",
    "#         print(f'Status @ {time.time()-start_time:0.0f} s: {job_status[max_job_count-1]},'\n",
    "#               f' ')\n",
    "#         time.sleep(10)\n",
    "#         job_status = job_set_foo.statuses()\n",
    "\n",
    "#     results_real = job_set_foo.results()   \n",
    "#     tomo_qc_real = tom.StateTomographyFitter(results_real, qctom, meas_basis='Pauli')\n",
    "#     #results_real.append(results_0)\n",
    "#     #tomo_qc_real.append(tomo_qc)\n",
    "    results_real = tomo_qc_real = 0\n",
    "    return (psi_qc, results_sim, result_sf, tomo_qc_sim, results_real, tomo_qc_real)"
   ]
  },
  {
   "cell_type": "code",
   "execution_count": 11,
   "metadata": {},
   "outputs": [],
   "source": [
    "dict={}\n",
    "for i in range(3):\n",
    "    data = executeStatePreparation(i)\n",
    "    dict[i]=data\n",
    "    #pickle.dump(data, open(\"Stabilizer%d\"%i, \"wb\"))\n"
   ]
  },
  {
   "cell_type": "markdown",
   "metadata": {},
   "source": [
    "### Analyze the first stabilizer's result"
   ]
  },
  {
   "cell_type": "code",
   "execution_count": 12,
   "metadata": {},
   "outputs": [],
   "source": [
    "psi_qc0, results_sim0, result_sf0, tomo_qc_sim0, results_real0, tomo_qc_real0=dict[0]"
   ]
  },
  {
   "cell_type": "code",
   "execution_count": null,
   "metadata": {},
   "outputs": [],
   "source": [
    "# qc0=StatePreparation(0)\n",
    "# qc0.draw()\n",
    "# qc1=deepcopy(qc0)\n",
    "# ca1 = ClassicalRegister(2)\n",
    "# qc1.add_register(ca1)\n",
    "# qc1.measure([5,6],[0,1])\n",
    "# job0 = execute(qc1, backend_sv)"
   ]
  },
  {
   "cell_type": "code",
   "execution_count": null,
   "metadata": {},
   "outputs": [],
   "source": [
    "# job0.result()"
   ]
  },
  {
   "cell_type": "code",
   "execution_count": null,
   "metadata": {},
   "outputs": [],
   "source": [
    "# reduced_sv = reduced(job0.result().get_statevector(),'00')\n",
    "# print(reduced_sv)"
   ]
  },
  {
   "cell_type": "code",
   "execution_count": 13,
   "metadata": {},
   "outputs": [
    {
     "data": {
      "text/plain": [
       "array([ 0.1767767-1.08244507e-17j,  0.1767767-1.08244507e-17j,\n",
       "        0.1767767-1.08244507e-17j, -0.1767767+1.08244507e-17j,\n",
       "        0.1767767-1.08244507e-17j,  0.1767767-1.08244507e-17j,\n",
       "       -0.1767767+1.08244507e-17j,  0.1767767-1.08244507e-17j,\n",
       "        0.1767767-1.08244507e-17j,  0.1767767-1.08244507e-17j,\n",
       "        0.1767767-1.08244507e-17j, -0.1767767+1.08244507e-17j,\n",
       "       -0.1767767+1.08244507e-17j, -0.1767767+1.08244507e-17j,\n",
       "        0.1767767-1.08244507e-17j, -0.1767767+1.08244507e-17j,\n",
       "        0.1767767-1.08244507e-17j, -0.1767767+1.08244507e-17j,\n",
       "        0.1767767-1.08244507e-17j,  0.1767767-1.08244507e-17j,\n",
       "        0.1767767-1.08244507e-17j, -0.1767767+1.08244507e-17j,\n",
       "       -0.1767767+1.08244507e-17j, -0.1767767+1.08244507e-17j,\n",
       "       -0.1767767+1.08244507e-17j,  0.1767767-1.08244507e-17j,\n",
       "       -0.1767767+1.08244507e-17j, -0.1767767+1.08244507e-17j,\n",
       "        0.1767767-1.08244507e-17j, -0.1767767+1.08244507e-17j,\n",
       "       -0.1767767+1.08244507e-17j, -0.1767767+1.08244507e-17j,\n",
       "        0.       +0.00000000e+00j,  0.       +0.00000000e+00j,\n",
       "        0.       +0.00000000e+00j,  0.       +0.00000000e+00j,\n",
       "        0.       +0.00000000e+00j,  0.       +0.00000000e+00j,\n",
       "        0.       +0.00000000e+00j,  0.       +0.00000000e+00j,\n",
       "        0.       +0.00000000e+00j,  0.       +0.00000000e+00j,\n",
       "        0.       +0.00000000e+00j,  0.       +0.00000000e+00j,\n",
       "        0.       +0.00000000e+00j,  0.       +0.00000000e+00j,\n",
       "        0.       +0.00000000e+00j,  0.       +0.00000000e+00j,\n",
       "        0.       +0.00000000e+00j,  0.       +0.00000000e+00j,\n",
       "        0.       +0.00000000e+00j,  0.       +0.00000000e+00j,\n",
       "        0.       +0.00000000e+00j,  0.       +0.00000000e+00j,\n",
       "        0.       +0.00000000e+00j,  0.       +0.00000000e+00j,\n",
       "        0.       +0.00000000e+00j,  0.       +0.00000000e+00j,\n",
       "        0.       +0.00000000e+00j,  0.       +0.00000000e+00j,\n",
       "        0.       +0.00000000e+00j,  0.       +0.00000000e+00j,\n",
       "        0.       +0.00000000e+00j,  0.       +0.00000000e+00j,\n",
       "        0.       +0.00000000e+00j,  0.       +0.00000000e+00j,\n",
       "        0.       +0.00000000e+00j,  0.       +0.00000000e+00j,\n",
       "        0.       +0.00000000e+00j,  0.       +0.00000000e+00j,\n",
       "        0.       +0.00000000e+00j,  0.       +0.00000000e+00j,\n",
       "        0.       +0.00000000e+00j,  0.       +0.00000000e+00j,\n",
       "        0.       +0.00000000e+00j,  0.       +0.00000000e+00j,\n",
       "        0.       +0.00000000e+00j,  0.       +0.00000000e+00j,\n",
       "        0.       +0.00000000e+00j,  0.       +0.00000000e+00j,\n",
       "        0.       +0.00000000e+00j,  0.       +0.00000000e+00j,\n",
       "        0.       +0.00000000e+00j,  0.       +0.00000000e+00j,\n",
       "        0.       +0.00000000e+00j,  0.       +0.00000000e+00j,\n",
       "        0.       +0.00000000e+00j,  0.       +0.00000000e+00j,\n",
       "        0.       +0.00000000e+00j,  0.       +0.00000000e+00j,\n",
       "        0.       +0.00000000e+00j,  0.       +0.00000000e+00j,\n",
       "        0.       +0.00000000e+00j,  0.       +0.00000000e+00j,\n",
       "        0.       +0.00000000e+00j,  0.       +0.00000000e+00j,\n",
       "        0.       +0.00000000e+00j,  0.       +0.00000000e+00j,\n",
       "        0.       +0.00000000e+00j,  0.       +0.00000000e+00j,\n",
       "        0.       +0.00000000e+00j,  0.       +0.00000000e+00j,\n",
       "        0.       +0.00000000e+00j,  0.       +0.00000000e+00j,\n",
       "        0.       +0.00000000e+00j,  0.       +0.00000000e+00j,\n",
       "        0.       +0.00000000e+00j,  0.       +0.00000000e+00j,\n",
       "        0.       +0.00000000e+00j,  0.       +0.00000000e+00j,\n",
       "        0.       +0.00000000e+00j,  0.       +0.00000000e+00j,\n",
       "        0.       +0.00000000e+00j,  0.       +0.00000000e+00j,\n",
       "        0.       +0.00000000e+00j,  0.       +0.00000000e+00j,\n",
       "        0.       +0.00000000e+00j,  0.       +0.00000000e+00j,\n",
       "        0.       +0.00000000e+00j,  0.       +0.00000000e+00j,\n",
       "        0.       +0.00000000e+00j,  0.       +0.00000000e+00j,\n",
       "        0.       +0.00000000e+00j,  0.       +0.00000000e+00j,\n",
       "        0.       +0.00000000e+00j,  0.       +0.00000000e+00j,\n",
       "        0.       +0.00000000e+00j,  0.       +0.00000000e+00j])"
      ]
     },
     "execution_count": 13,
     "metadata": {},
     "output_type": "execute_result"
    }
   ],
   "source": [
    "psi_qc0"
   ]
  },
  {
   "cell_type": "code",
   "execution_count": 14,
   "metadata": {},
   "outputs": [
    {
     "name": "stdout",
     "output_type": "stream",
     "text": [
      "[ 0.1767767-1.08244507e-17j  0.1767767-1.08244507e-17j\n",
      "  0.1767767-1.08244507e-17j -0.1767767+1.08244507e-17j\n",
      "  0.1767767-1.08244507e-17j  0.1767767-1.08244507e-17j\n",
      " -0.1767767+1.08244507e-17j  0.1767767-1.08244507e-17j\n",
      "  0.1767767-1.08244507e-17j  0.1767767-1.08244507e-17j\n",
      "  0.1767767-1.08244507e-17j -0.1767767+1.08244507e-17j\n",
      " -0.1767767+1.08244507e-17j -0.1767767+1.08244507e-17j\n",
      "  0.1767767-1.08244507e-17j -0.1767767+1.08244507e-17j\n",
      "  0.1767767-1.08244507e-17j -0.1767767+1.08244507e-17j\n",
      "  0.1767767-1.08244507e-17j  0.1767767-1.08244507e-17j\n",
      "  0.1767767-1.08244507e-17j -0.1767767+1.08244507e-17j\n",
      " -0.1767767+1.08244507e-17j -0.1767767+1.08244507e-17j\n",
      " -0.1767767+1.08244507e-17j  0.1767767-1.08244507e-17j\n",
      " -0.1767767+1.08244507e-17j -0.1767767+1.08244507e-17j\n",
      "  0.1767767-1.08244507e-17j -0.1767767+1.08244507e-17j\n",
      " -0.1767767+1.08244507e-17j -0.1767767+1.08244507e-17j]\n"
     ]
    }
   ],
   "source": [
    "reduced_sv = reduced(psi_qc0,'00')\n",
    "print(reduced_sv)"
   ]
  },
  {
   "cell_type": "markdown",
   "metadata": {},
   "source": [
    "Since the simulation is ideal, syndrome and flag are always 0"
   ]
  },
  {
   "cell_type": "code",
   "execution_count": 15,
   "metadata": {
    "scrolled": false
   },
   "outputs": [],
   "source": [
    "rho_qc_sf0 = (tomo_qc_sim0['00'].fit(method='lstsq'))\n",
    "# print(tomo_qc_sim0['01'])\n",
    "# print(result_sf0)\n",
    "# rho_qc_sf[1] = (tomo_qc_sim0['01'].fit(method='lstsq'))\n",
    "# rho_qc_sf[2] = (tomo_qc_sim0['10'].fit(method='lstsq'))\n",
    "# rho_qc_sf[3] = (tomo_qc_sim0['11'].fit(method='lstsq'))"
   ]
  },
  {
   "cell_type": "markdown",
   "metadata": {},
   "source": [
    "fidelity between the reduced statevector of the circuit without measurement, and the reconstructed state of simulation tomography results"
   ]
  },
  {
   "cell_type": "code",
   "execution_count": 16,
   "metadata": {},
   "outputs": [
    {
     "name": "stdout",
     "output_type": "stream",
     "text": [
      "0.9928004856689024\n"
     ]
    }
   ],
   "source": [
    "F_qc_sf0 = state_fidelity(reduced(psi_qc0,'00'), rho_qc_sf0)\n",
    "print(F_qc_sf0)"
   ]
  },
  {
   "cell_type": "markdown",
   "metadata": {},
   "source": [
    "The fidelity seems rather poor :(.(Not any more. :D) And the two density matrices, represented below, are very different(not so different)."
   ]
  },
  {
   "cell_type": "code",
   "execution_count": 17,
   "metadata": {},
   "outputs": [],
   "source": [
    "psi_qc0_vec=reduced(psi_qc0, '00').reshape(32,1)"
   ]
  },
  {
   "cell_type": "code",
   "execution_count": 18,
   "metadata": {},
   "outputs": [
    {
     "name": "stdout",
     "output_type": "stream",
     "text": [
      "[[ 0.03125+1.25596969e-35j  0.03125+1.25596969e-35j\n",
      "   0.03125+1.25596969e-35j ... -0.03125-1.25596969e-35j\n",
      "  -0.03125-1.25596969e-35j -0.03125-1.25596969e-35j]\n",
      " [ 0.03125+1.25596969e-35j  0.03125+1.25596969e-35j\n",
      "   0.03125+1.25596969e-35j ... -0.03125-1.25596969e-35j\n",
      "  -0.03125-1.25596969e-35j -0.03125-1.25596969e-35j]\n",
      " [ 0.03125+1.25596969e-35j  0.03125+1.25596969e-35j\n",
      "   0.03125+1.25596969e-35j ... -0.03125-1.25596969e-35j\n",
      "  -0.03125-1.25596969e-35j -0.03125-1.25596969e-35j]\n",
      " ...\n",
      " [-0.03125-1.25596969e-35j -0.03125-1.25596969e-35j\n",
      "  -0.03125-1.25596969e-35j ...  0.03125+1.25596969e-35j\n",
      "   0.03125+1.25596969e-35j  0.03125+1.25596969e-35j]\n",
      " [-0.03125-1.25596969e-35j -0.03125-1.25596969e-35j\n",
      "  -0.03125-1.25596969e-35j ...  0.03125+1.25596969e-35j\n",
      "   0.03125+1.25596969e-35j  0.03125+1.25596969e-35j]\n",
      " [-0.03125-1.25596969e-35j -0.03125-1.25596969e-35j\n",
      "  -0.03125-1.25596969e-35j ...  0.03125+1.25596969e-35j\n",
      "   0.03125+1.25596969e-35j  0.03125+1.25596969e-35j]]\n"
     ]
    }
   ],
   "source": [
    "dm_qc0=np.dot(psi_qc0_vec, psi_qc0_vec.conj().T)\n",
    "print(dm_qc0)"
   ]
  },
  {
   "cell_type": "raw",
   "metadata": {},
   "source": [
    "rho_qc_sf0"
   ]
  },
  {
   "cell_type": "code",
   "execution_count": 19,
   "metadata": {},
   "outputs": [
    {
     "name": "stdout",
     "output_type": "stream",
     "text": [
      "(1+0j)\n",
      "[[ 0.03136445+0.00000000e+00j  0.03117663-1.67919260e-04j\n",
      "   0.03074572-1.46484788e-04j ... -0.03119449+3.89497741e-04j\n",
      "  -0.03122979+3.93402216e-04j -0.03109915+2.09946250e-04j]\n",
      " [ 0.03117663+1.67919260e-04j  0.03171004+0.00000000e+00j\n",
      "   0.03098451-3.36959570e-05j ... -0.03124828+3.01299815e-04j\n",
      "  -0.03122727+8.60883794e-07j -0.03142932-9.76911175e-05j]\n",
      " [ 0.03074572+1.46484788e-04j  0.03098451+3.36959570e-05j\n",
      "   0.03054031+0.00000000e+00j ... -0.0307968 +3.76631029e-04j\n",
      "  -0.0306861 +1.17572007e-04j -0.03071857+1.89755318e-05j]\n",
      " ...\n",
      " [-0.03119449-3.89497741e-04j -0.03124828-3.01299815e-04j\n",
      "  -0.0307968 -3.76631029e-04j ...  0.03137527+0.00000000e+00j\n",
      "   0.03114943+1.26084151e-05j  0.0311935 +2.73194293e-04j]\n",
      " [-0.03122979-3.93402216e-04j -0.03122727-8.60883794e-07j\n",
      "  -0.0306861 -1.17572007e-04j ...  0.03114943-1.26084151e-05j\n",
      "   0.03126838+0.00000000e+00j  0.03116328+1.10161310e-04j]\n",
      " [-0.03109915-2.09946250e-04j -0.03142932+9.76911175e-05j\n",
      "  -0.03071857-1.89755318e-05j ...  0.0311935 -2.73194293e-04j\n",
      "   0.03116328-1.10161310e-04j  0.03137985+0.00000000e+00j]]\n"
     ]
    }
   ],
   "source": [
    "print(np.trace(rho_qc_sf0))\n",
    "print(rho_qc_sf0)"
   ]
  },
  {
   "cell_type": "markdown",
   "metadata": {},
   "source": [
    "The following fidelity calculations are incorrect because noisy experimental results include those with non-zero syndrome or flag."
   ]
  },
  {
   "cell_type": "markdown",
   "metadata": {},
   "source": [
    "The fidelity between reconstruction using the simulation data and reconstruction using the real qc data"
   ]
  },
  {
   "cell_type": "code",
   "execution_count": null,
   "metadata": {},
   "outputs": [],
   "source": [
    "rho_real_sf0= tomo_qc_real0.fit(method='lstsq')"
   ]
  },
  {
   "cell_type": "code",
   "execution_count": null,
   "metadata": {},
   "outputs": [],
   "source": [
    "F_qc_0=state_fidelity(rho_qc_sf0, rho_real_sf0)\n",
    "print(F_qc_0)"
   ]
  },
  {
   "cell_type": "markdown",
   "metadata": {},
   "source": [
    "Fidelity between the real-quantum-computer-data reconstruction and the ideal statevector"
   ]
  },
  {
   "cell_type": "code",
   "execution_count": null,
   "metadata": {},
   "outputs": [],
   "source": [
    "F_qc_1=state_fidelity(reduced(psi_qc0,'00'), rho_real_sf0)\n",
    "print(F_qc_1)"
   ]
  },
  {
   "cell_type": "code",
   "execution_count": null,
   "metadata": {},
   "outputs": [],
   "source": [
    "results_real0.get_counts(1)"
   ]
  }
 ],
 "metadata": {
  "kernelspec": {
   "display_name": "Python 3",
   "language": "python",
   "name": "python3"
  },
  "language_info": {
   "codemirror_mode": {
    "name": "ipython",
    "version": 3
   },
   "file_extension": ".py",
   "mimetype": "text/x-python",
   "name": "python",
   "nbconvert_exporter": "python",
   "pygments_lexer": "ipython3",
   "version": "3.7.7"
  }
 },
 "nbformat": 4,
 "nbformat_minor": 2
}
