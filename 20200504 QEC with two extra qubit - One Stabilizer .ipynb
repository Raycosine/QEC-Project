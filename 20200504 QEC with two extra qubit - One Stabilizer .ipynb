{
 "cells": [
  {
   "cell_type": "code",
   "execution_count": 1,
   "metadata": {},
   "outputs": [],
   "source": [
    "%matplotlib inline\n",
    "# Importing standard Qiskit libraries and configuring account\n",
    "from qiskit import QuantumCircuit, execute, Aer, IBMQ\n",
    "from qiskit import QuantumRegister, ClassicalRegister\n",
    "from qiskit.compiler import transpile, assemble\n",
    "from qiskit.tools.jupyter import *\n",
    "from qiskit.visualization import *\n",
    "from qiskit.circuit import Parameter\n",
    "\n",
    "import qiskit.ignis.verification.tomography as tom\n",
    "from qiskit.providers.ibmq.managed import IBMQJobManager\n",
    "from qiskit.providers.jobstatus import JOB_FINAL_STATES\n",
    "from qiskit.quantum_info import state_fidelity\n",
    "from qiskit.providers.aer import noise\n",
    "\n",
    "# Importing other packages\n",
    "import pickle\n",
    "import numpy as np\n",
    "\n",
    "# Loading your IBM Q account(s)\n",
    "provider = IBMQ.load_account()"
   ]
  },
  {
   "cell_type": "code",
   "execution_count": 2,
   "metadata": {},
   "outputs": [],
   "source": [
    "from copy import deepcopy"
   ]
  },
  {
   "cell_type": "code",
   "execution_count": 3,
   "metadata": {},
   "outputs": [
    {
     "name": "stdout",
     "output_type": "stream",
     "text": [
      "ibmq_qasm_simulator\n",
      "ibmqx2\n",
      "ibmq_16_melbourne\n",
      "ibmq_vigo\n",
      "ibmq_ourense\n",
      "ibmq_london\n",
      "ibmq_burlington\n",
      "ibmq_essex\n",
      "ibmq_armonk\n",
      "ibmq_athens\n",
      "ibmq_rome\n",
      "---\n",
      "qasm_simulator\n",
      "statevector_simulator\n",
      "unitary_simulator\n",
      "pulse_simulator\n"
     ]
    }
   ],
   "source": [
    "print('\\n'.join([str(x) for x in provider.backends()]))\n",
    "print('---')\n",
    "print('\\n'.join([str(x) for x in Aer.backends()]))\n",
    "backend=provider.get_backend('ibmq_16_melbourne')\n",
    "backend_sim=provider.get_backend('ibmq_qasm_simulator')\n",
    "backend_sv=Aer.get_backend('statevector_simulator')"
   ]
  },
  {
   "cell_type": "code",
   "execution_count": 4,
   "metadata": {},
   "outputs": [],
   "source": [
    "data_list=[0,1,2,3,4]\n",
    "syn=[5]\n",
    "flag=[6]"
   ]
  },
  {
   "cell_type": "code",
   "execution_count": 5,
   "metadata": {},
   "outputs": [],
   "source": [
    "def StatePreparation(stabilizer=0):\n",
    "    q = QuantumRegister(7)\n",
    "    qc = QuantumCircuit(q)\n",
    "    #prepare the 5-qubit graph state\n",
    "    qc.h(q[0])\n",
    "    qc.h(q[1])\n",
    "    qc.h(q[2])\n",
    "    qc.h(q[3])\n",
    "    qc.h(q[4])\n",
    "    qc.cz(q[0],q[1])\n",
    "    qc.cz(q[2],q[3])\n",
    "    qc.cz(q[1],q[2])\n",
    "    qc.cz(q[3],q[4])\n",
    "    qc.cz(q[0],q[4])\n",
    "    #syndrome and flag extraction\n",
    "    #stabilizer order: from left to right, Fig 2(a), SM of two extra qubits\n",
    "    if(stabilizer==0):\n",
    "        #first stabilizer \n",
    "        qc.h(q[5])\n",
    "        qc.cx(q[5],q[0])\n",
    "        qc.cx(q[5],q[6])\n",
    "        qc.cz(q[1],q[5])\n",
    "        qc.cx(q[5],q[6])\n",
    "        qc.cz(q[4],q[5])\n",
    "        qc.h(q[5])\n",
    "    elif(stabilizer==1):\n",
    "    #second stabilizer\n",
    "        qc.h(q[5])\n",
    "        qc.cz(q[0],q[5])\n",
    "        qc.cx(q[5],q[6])\n",
    "        qc.cx(q[5],q[1])\n",
    "        qc.cx(q[5],q[6])\n",
    "        qc.cz(q[2],q[5])\n",
    "        qc.h(q[5])\n",
    "    elif(stabilizer==2):\n",
    "        #third stabilizer\n",
    "        qc.h(q[5])\n",
    "        qc.cx(q[5],q[3])\n",
    "        qc.cx(q[5],q[6])\n",
    "        qc.cz(q[2],q[5])\n",
    "        qc.cx(q[5],q[6])\n",
    "        qc.cz(q[4],q[5])\n",
    "        qc.h(q[5])\n",
    "    #measure syndrome and flag & do state tomography for the data qubits\n",
    "    qc.barrier()\n",
    "    #qc.measure(q[5],c[5])\n",
    "    #qc.measure(q[6],c[6])\n",
    "    return qc"
   ]
  },
  {
   "cell_type": "code",
   "execution_count": 6,
   "metadata": {},
   "outputs": [
    {
     "data": {
      "text/html": [
       "<pre style=\"word-wrap: normal;white-space: pre;background: #fff0;line-height: 1.1;font-family: &quot;Courier New&quot;,Courier,monospace\">      ┌───┐         ┌───┐                      ░ \n",
       "q0_0: ┤ H ├─■─────■─┤ X ├──────────────────────░─\n",
       "      ├───┤ │     │ └─┬─┘                      ░ \n",
       "q0_1: ┤ H ├─■──■──┼───┼────────■───────────────░─\n",
       "      ├───┤    │  │   │        │               ░ \n",
       "q0_2: ┤ H ├─■──■──┼───┼────────┼───────────────░─\n",
       "      ├───┤ │     │   │        │               ░ \n",
       "q0_3: ┤ H ├─■──■──┼───┼────────┼───────────────░─\n",
       "      ├───┤    │  │   │        │               ░ \n",
       "q0_4: ┤ H ├────■──■───┼────────┼───────■───────░─\n",
       "      ├───┤           │        │       │ ┌───┐ ░ \n",
       "q0_5: ┤ H ├───────────■────■───■───■───■─┤ H ├─░─\n",
       "      └───┘              ┌─┴─┐   ┌─┴─┐   └───┘ ░ \n",
       "q0_6: ───────────────────┤ X ├───┤ X ├─────────░─\n",
       "                         └───┘   └───┘         ░ </pre>"
      ],
      "text/plain": [
       "      ┌───┐         ┌───┐                      ░ \n",
       "q0_0: ┤ H ├─■─────■─┤ X ├──────────────────────░─\n",
       "      ├───┤ │     │ └─┬─┘                      ░ \n",
       "q0_1: ┤ H ├─■──■──┼───┼────────■───────────────░─\n",
       "      ├───┤    │  │   │        │               ░ \n",
       "q0_2: ┤ H ├─■──■──┼───┼────────┼───────────────░─\n",
       "      ├───┤ │     │   │        │               ░ \n",
       "q0_3: ┤ H ├─■──■──┼───┼────────┼───────────────░─\n",
       "      ├───┤    │  │   │        │               ░ \n",
       "q0_4: ┤ H ├────■──■───┼────────┼───────■───────░─\n",
       "      ├───┤           │        │       │ ┌───┐ ░ \n",
       "q0_5: ┤ H ├───────────■────■───■───■───■─┤ H ├─░─\n",
       "      └───┘              ┌─┴─┐   ┌─┴─┐   └───┘ ░ \n",
       "q0_6: ───────────────────┤ X ├───┤ X ├─────────░─\n",
       "                         └───┘   └───┘         ░ "
      ]
     },
     "execution_count": 6,
     "metadata": {},
     "output_type": "execute_result"
    }
   ],
   "source": [
    "qc=StatePreparation(0)\n",
    "qc.draw()"
   ]
  },
  {
   "cell_type": "markdown",
   "metadata": {},
   "source": [
    "To keep the consistence, the following blocks are mainly from `test state prep.ipynb`"
   ]
  },
  {
   "cell_type": "code",
   "execution_count": 7,
   "metadata": {},
   "outputs": [],
   "source": [
    "import time"
   ]
  },
  {
   "cell_type": "markdown",
   "metadata": {},
   "source": [
    "Based on https://github.com/Qiskit/qiskit-tutorials/blob/master/legacy_tutorials/ignis/6a_state_tomography.ipynb?fbclid=IwAR1Pf1nH2CBPUWDdsa_xBiYs1kYDu8hwI9dVvr63z7ypmhy2UlR6QpMgJWc, 2-Qubit Conditional State Tomography"
   ]
  },
  {
   "cell_type": "markdown",
   "metadata": {},
   "source": [
    "we should have projected the ideal final state to the final state, 'reduced(v,sf)' returns the projected states based on 'sf'. At the moment, for the simulation result, 'sf' can only be '00' and the func returns the first 32 elements of v."
   ]
  },
  {
   "cell_type": "code",
   "execution_count": 110,
   "metadata": {},
   "outputs": [],
   "source": [
    "def reduced(v, sf):\n",
    "    s=int(sf[0])\n",
    "    f=int(sf[1])\n",
    "    out=s*2+f\n",
    "    res=[]\n",
    "    for i in range(v.shape[0]):\n",
    "        if((i>>5)==out):#((i%4)==out):#\n",
    "            res.append(v[i])\n",
    "    res=np.array(res)\n",
    "    res=res/np.sqrt(np.sum(np.power(np.abs(res),2)))\n",
    "    return np.array(res)"
   ]
  },
  {
   "cell_type": "markdown",
   "metadata": {},
   "source": [
    "## Main part"
   ]
  },
  {
   "cell_type": "markdown",
   "metadata": {},
   "source": [
    "Circuit | Description \n",
    "---| ---\n",
    "qc0 | As shown in [6], state prepartion + stabilizer, no measurement\n",
    "qc1 | add measurements on syndrome and flag qubits\n",
    "qctom | add measurements on syndrome and flag qubits, then do state tomography on data qubits, used for tomography by both simulation and experiment\n",
    "qctom_no_anc | qctom without measurement, used for 'tom.stateTomographyFitter'\n"
   ]
  },
  {
   "cell_type": "code",
   "execution_count": 31,
   "metadata": {},
   "outputs": [],
   "source": [
    "def executeStatePreparation(stabilizer=0):\n",
    "    #state vector\n",
    "    qc0=StatePreparation(stabilizer)\n",
    "    qc0.draw()\n",
    "    \n",
    "    qc1=deepcopy(qc0)\n",
    "    ca1 = ClassicalRegister(2)\n",
    "    qc1.add_register(ca1)\n",
    "    qc1.measure([5,6],[0,1])\n",
    "    job = execute(qc1, backend_sv)\n",
    "    psi_qc = job.result().get_statevector(qc1)\n",
    "    #qasm simulation\n",
    "    qctom = tom.state_tomography_circuits(qc0, data_list, meas_labels='Pauli', meas_basis='Pauli')\n",
    "    qctom_no_anc = deepcopy(qctom)\n",
    "    for qc in qctom:\n",
    "        ca = ClassicalRegister(2)\n",
    "        qc.add_register(ca)\n",
    "        qc.measure([5,6],[0,1])\n",
    "        \n",
    "    job = execute(qctom, backend=backend_sim, optimization_level=3, shots=4096)\n",
    "    results_sim=job.result()\n",
    "\n",
    "    #strip the registers for syndrome and flag extraction\n",
    "    result_sf={}\n",
    "    for sf in ['00','01','10','11']:\n",
    "            #outcomes: 00,01,10,11\n",
    "            new_result = deepcopy(results_sim)\n",
    "\n",
    "            for resultidx, _ in enumerate(results_sim.results):\n",
    "                old_counts = results_sim.get_counts(resultidx)\n",
    "                new_counts = {}\n",
    "\n",
    "                #change the size of the classical register\n",
    "                new_result.results[resultidx].header.creg_sizes = [new_result.results[resultidx].header.creg_sizes[0]]\n",
    "                new_result.results[resultidx].header.clbit_labels = new_result.results[resultidx].header.clbit_labels[0:-2]\n",
    "                new_result.results[resultidx].header.memory_slots = 5\n",
    "\n",
    "                for reg_key in old_counts:\n",
    "                    reg_bits = reg_key.split(' ')\n",
    "                    if (reg_bits[0]==sf):#reg_key is in the form like '00 10011', reg_bts[0]='00'\n",
    "                        new_counts[reg_bits[1]]=old_counts[reg_key]\n",
    "\n",
    "                new_result.results[resultidx].data.counts = \\\n",
    "                    new_result.results[resultidx]. \\\n",
    "                    data.counts.from_dict(new_counts)\n",
    "\n",
    "                result_sf[sf]=new_result\n",
    "\n",
    "    #send the results to the state tomography filter\n",
    "    \n",
    "    tomo_qc_sim={}\n",
    "    for sf in ['00','01','10','11']:\n",
    "        tomo_qc_sim_sf = tom.StateTomographyFitter(result_sf[sf], qctom_no_anc, meas_basis='Pauli')\n",
    "        tomo_qc_sim[sf]=tomo_qc_sim_sf\n",
    "    \n",
    "    max_job_count = 5\n",
    "    max_exp_per_job = 54\n",
    "    qctom = tom.state_tomography_circuits(qc0, data_list, meas_labels='Pauli', meas_basis='Pauli')\n",
    "    \"\"\" already measured 5,6 in qctom above\n",
    "    for qc in qctom:\n",
    "        ca = ClassicalRegister(2)\n",
    "        qc.add_register(ca)\n",
    "        qc.measure([5,6],[5,6])\n",
    "    \"\"\"\n",
    "    qctom = transpile(qctom, backend=backend)\n",
    "    \n",
    "    #results_real=[]\n",
    "    #tomo_qc_real=[]\n",
    "    \n",
    "    job_manager = IBMQJobManager()\n",
    "    start_time = time.time()\n",
    "    #for qc in qctom:\n",
    "    job_set_foo = job_manager.run(qctom, backend=backend, name='qctom', shots=2048, max_experiments_per_job=54)\n",
    "    job_status = job_set_foo.statuses()\n",
    "    while job_status[max_job_count-1] not in JOB_FINAL_STATES:\n",
    "        print(f'Status @ {time.time()-start_time:0.0f} s: {job_status[max_job_count-1]},'\n",
    "              f' ')\n",
    "        time.sleep(10)\n",
    "        job_status = job_set_foo.statuses()\n",
    "\n",
    "    results_real = job_set_foo.results()   \n",
    "    tomo_qc_real = tom.StateTomographyFitter(results_real, qctom, meas_basis='Pauli')\n",
    "    #results_real.append(results_0)\n",
    "    #tomo_qc_real.append(tomo_qc)\n",
    "    return (psi_qc, results_sim, result_sf, tomo_qc_sim, results_real, tomo_qc_real)"
   ]
  },
  {
   "cell_type": "code",
   "execution_count": 32,
   "metadata": {},
   "outputs": [
    {
     "name": "stdout",
     "output_type": "stream",
     "text": [
      "Status @ 0 s: JobStatus.INITIALIZING, \n",
      "Status @ 12 s: JobStatus.VALIDATING, \n",
      "Status @ 23 s: JobStatus.RUNNING, \n",
      "Status @ 35 s: JobStatus.RUNNING, \n",
      "Status @ 47 s: JobStatus.RUNNING, \n",
      "Status @ 59 s: JobStatus.RUNNING, \n",
      "Status @ 71 s: JobStatus.RUNNING, \n",
      "Status @ 82 s: JobStatus.RUNNING, \n",
      "Status @ 94 s: JobStatus.RUNNING, \n",
      "Status @ 106 s: JobStatus.RUNNING, \n",
      "Status @ 117 s: JobStatus.RUNNING, \n",
      "Status @ 132 s: JobStatus.RUNNING, \n",
      "Status @ 144 s: JobStatus.RUNNING, \n",
      "Status @ 156 s: JobStatus.RUNNING, \n",
      "Status @ 167 s: JobStatus.RUNNING, \n",
      "Status @ 179 s: JobStatus.RUNNING, \n",
      "Status @ 190 s: JobStatus.RUNNING, \n",
      "Status @ 202 s: JobStatus.RUNNING, \n",
      "Status @ 213 s: JobStatus.RUNNING, \n",
      "Status @ 224 s: JobStatus.RUNNING, \n",
      "Status @ 236 s: JobStatus.RUNNING, \n",
      "Status @ 247 s: JobStatus.RUNNING, \n",
      "Status @ 259 s: JobStatus.RUNNING, \n",
      "Status @ 270 s: JobStatus.RUNNING, \n",
      "Status @ 281 s: JobStatus.RUNNING, \n",
      "Status @ 292 s: JobStatus.RUNNING, \n",
      "Status @ 303 s: JobStatus.RUNNING, \n",
      "Status @ 314 s: JobStatus.RUNNING, \n",
      "Status @ 325 s: JobStatus.RUNNING, \n",
      "Status @ 336 s: JobStatus.RUNNING, \n",
      "Status @ 346 s: JobStatus.RUNNING, \n",
      "Status @ 357 s: JobStatus.RUNNING, \n",
      "Status @ 368 s: JobStatus.RUNNING, \n",
      "Status @ 379 s: JobStatus.RUNNING, \n",
      "Status @ 1 s: JobStatus.INITIALIZING, \n",
      "Status @ 12 s: JobStatus.RUNNING, \n",
      "Status @ 24 s: JobStatus.RUNNING, \n",
      "Status @ 36 s: JobStatus.RUNNING, \n",
      "Status @ 48 s: JobStatus.RUNNING, \n",
      "Status @ 59 s: JobStatus.RUNNING, \n",
      "Status @ 71 s: JobStatus.RUNNING, \n",
      "Status @ 83 s: JobStatus.RUNNING, \n",
      "Status @ 95 s: JobStatus.RUNNING, \n",
      "Status @ 106 s: JobStatus.RUNNING, \n",
      "Status @ 118 s: JobStatus.RUNNING, \n",
      "Status @ 130 s: JobStatus.RUNNING, \n",
      "Status @ 142 s: JobStatus.RUNNING, \n",
      "Status @ 153 s: JobStatus.RUNNING, \n",
      "Status @ 166 s: JobStatus.RUNNING, \n",
      "Status @ 178 s: JobStatus.RUNNING, \n",
      "Status @ 190 s: JobStatus.RUNNING, \n",
      "Status @ 201 s: JobStatus.RUNNING, \n",
      "Status @ 213 s: JobStatus.RUNNING, \n",
      "Status @ 225 s: JobStatus.RUNNING, \n",
      "Status @ 236 s: JobStatus.RUNNING, \n",
      "Status @ 248 s: JobStatus.RUNNING, \n",
      "Status @ 259 s: JobStatus.RUNNING, \n",
      "Status @ 271 s: JobStatus.RUNNING, \n",
      "Status @ 282 s: JobStatus.RUNNING, \n",
      "Status @ 294 s: JobStatus.RUNNING, \n",
      "Status @ 305 s: JobStatus.RUNNING, \n",
      "Status @ 316 s: JobStatus.RUNNING, \n",
      "Status @ 327 s: JobStatus.RUNNING, \n",
      "Status @ 338 s: JobStatus.RUNNING, \n",
      "Status @ 350 s: JobStatus.RUNNING, \n",
      "Status @ 361 s: JobStatus.RUNNING, \n",
      "Status @ 372 s: JobStatus.RUNNING, \n",
      "Status @ 382 s: JobStatus.RUNNING, \n",
      "Status @ 393 s: JobStatus.RUNNING, \n",
      "Status @ 404 s: JobStatus.RUNNING, \n",
      "Status @ 414 s: JobStatus.RUNNING, \n",
      "Status @ 425 s: JobStatus.RUNNING, \n",
      "Status @ 436 s: JobStatus.RUNNING, \n",
      "Status @ 446 s: JobStatus.RUNNING, \n",
      "Status @ 457 s: JobStatus.RUNNING, \n",
      "Status @ 467 s: JobStatus.RUNNING, \n",
      "Status @ 478 s: JobStatus.RUNNING, \n",
      "Status @ 488 s: JobStatus.RUNNING, \n",
      "Status @ 0 s: JobStatus.INITIALIZING, \n",
      "Status @ 12 s: JobStatus.VALIDATING, \n",
      "Status @ 24 s: JobStatus.RUNNING, \n",
      "Status @ 35 s: JobStatus.RUNNING, \n",
      "Status @ 47 s: JobStatus.RUNNING, \n",
      "Status @ 58 s: JobStatus.RUNNING, \n",
      "Status @ 70 s: JobStatus.RUNNING, \n",
      "Status @ 82 s: JobStatus.RUNNING, \n",
      "Status @ 95 s: JobStatus.RUNNING, \n",
      "Status @ 106 s: JobStatus.RUNNING, \n",
      "Status @ 118 s: JobStatus.RUNNING, \n",
      "Status @ 129 s: JobStatus.RUNNING, \n",
      "Status @ 141 s: JobStatus.RUNNING, \n",
      "Status @ 155 s: JobStatus.RUNNING, \n",
      "Status @ 167 s: JobStatus.RUNNING, \n",
      "Status @ 179 s: JobStatus.RUNNING, \n",
      "Status @ 190 s: JobStatus.RUNNING, \n",
      "Status @ 202 s: JobStatus.RUNNING, \n",
      "Status @ 215 s: JobStatus.RUNNING, \n",
      "Status @ 226 s: JobStatus.RUNNING, \n",
      "Status @ 237 s: JobStatus.RUNNING, \n",
      "Status @ 249 s: JobStatus.RUNNING, \n",
      "Status @ 260 s: JobStatus.RUNNING, \n",
      "Status @ 271 s: JobStatus.RUNNING, \n",
      "Status @ 283 s: JobStatus.RUNNING, \n",
      "Status @ 294 s: JobStatus.RUNNING, \n",
      "Status @ 305 s: JobStatus.RUNNING, \n",
      "Status @ 316 s: JobStatus.RUNNING, \n",
      "Status @ 327 s: JobStatus.RUNNING, \n",
      "Status @ 339 s: JobStatus.RUNNING, \n",
      "Status @ 350 s: JobStatus.RUNNING, \n",
      "Status @ 361 s: JobStatus.RUNNING, \n",
      "Status @ 372 s: JobStatus.RUNNING, \n",
      "Status @ 383 s: JobStatus.RUNNING, \n",
      "Status @ 393 s: JobStatus.RUNNING, \n",
      "Status @ 404 s: JobStatus.RUNNING, \n",
      "Status @ 415 s: JobStatus.RUNNING, \n",
      "Status @ 425 s: JobStatus.RUNNING, \n",
      "Status @ 436 s: JobStatus.RUNNING, \n",
      "Status @ 446 s: JobStatus.RUNNING, \n",
      "Status @ 457 s: JobStatus.RUNNING, \n",
      "Status @ 467 s: JobStatus.RUNNING, \n",
      "Status @ 478 s: JobStatus.RUNNING, \n"
     ]
    }
   ],
   "source": [
    "dict={}\n",
    "for i in range(3):\n",
    "    data = executeStatePreparation(i)\n",
    "    dict[i]=data\n",
    "    #pickle.dump(data, open(\"Stabilizer%d\"%i, \"wb\"))\n"
   ]
  },
  {
   "cell_type": "markdown",
   "metadata": {},
   "source": [
    "### Analyze the first stabilizer's result"
   ]
  },
  {
   "cell_type": "code",
   "execution_count": 34,
   "metadata": {},
   "outputs": [],
   "source": [
    "psi_qc0, results_sim0, result_sf0, tomo_qc_sim0, results_real0, tomo_qc_real0=dict[0]"
   ]
  },
  {
   "cell_type": "code",
   "execution_count": 129,
   "metadata": {},
   "outputs": [],
   "source": [
    "qc0=StatePreparation(0)\n",
    "qc0.draw()\n",
    "qc1=deepcopy(qc0)\n",
    "ca1 = ClassicalRegister(2)\n",
    "qc1.add_register(ca1)\n",
    "qc1.measure([5,6],[0,1])\n",
    "job0 = execute(qc1, backend_sv)"
   ]
  },
  {
   "cell_type": "code",
   "execution_count": 133,
   "metadata": {},
   "outputs": [
    {
     "data": {
      "text/plain": [
       "Result(backend_name='statevector_simulator', backend_version='0.5.1', date=datetime.datetime(2020, 5, 4, 16, 35, 43, 864609), header=Obj(backend_name='statevector_simulator', backend_version='0.5.1'), job_id='451149de-f0cf-4861-b5c2-423a6e30117d', metadata={'max_memory_mb': 4032, 'omp_enabled': True, 'parallel_experiments': 1, 'time_taken': 0.0216422}, qobj_id='9f19313e-23b3-44bd-88d6-50a0c27a8b69', results=[ExperimentResult(data=ExperimentResultData(counts=Obj(0x0=8), statevector=array([ 0.1767767-1.08244507e-17j,  0.1767767-1.08244507e-17j,\n",
       "        0.1767767-1.08244507e-17j, -0.1767767+1.08244507e-17j,\n",
       "        0.1767767-1.08244507e-17j,  0.1767767-1.08244507e-17j,\n",
       "       -0.1767767+1.08244507e-17j,  0.1767767-1.08244507e-17j,\n",
       "        0.1767767-1.08244507e-17j,  0.1767767-1.08244507e-17j,\n",
       "        0.1767767-1.08244507e-17j, -0.1767767+1.08244507e-17j,\n",
       "       -0.1767767+1.08244507e-17j, -0.1767767+1.08244507e-17j,\n",
       "        0.1767767-1.08244507e-17j, -0.1767767+1.08244507e-17j,\n",
       "        0.1767767-1.08244507e-17j, -0.1767767+1.08244507e-17j,\n",
       "        0.1767767-1.08244507e-17j,  0.1767767-1.08244507e-17j,\n",
       "        0.1767767-1.08244507e-17j, -0.1767767+1.08244507e-17j,\n",
       "       -0.1767767+1.08244507e-17j, -0.1767767+1.08244507e-17j,\n",
       "       -0.1767767+1.08244507e-17j,  0.1767767-1.08244507e-17j,\n",
       "       -0.1767767+1.08244507e-17j, -0.1767767+1.08244507e-17j,\n",
       "        0.1767767-1.08244507e-17j, -0.1767767+1.08244507e-17j,\n",
       "       -0.1767767+1.08244507e-17j, -0.1767767+1.08244507e-17j,\n",
       "        0.       +0.00000000e+00j,  0.       +0.00000000e+00j,\n",
       "        0.       +0.00000000e+00j,  0.       +0.00000000e+00j,\n",
       "        0.       +0.00000000e+00j,  0.       +0.00000000e+00j,\n",
       "        0.       +0.00000000e+00j,  0.       +0.00000000e+00j,\n",
       "        0.       +0.00000000e+00j,  0.       +0.00000000e+00j,\n",
       "        0.       +0.00000000e+00j,  0.       +0.00000000e+00j,\n",
       "        0.       +0.00000000e+00j,  0.       +0.00000000e+00j,\n",
       "        0.       +0.00000000e+00j,  0.       +0.00000000e+00j,\n",
       "        0.       +0.00000000e+00j,  0.       +0.00000000e+00j,\n",
       "        0.       +0.00000000e+00j,  0.       +0.00000000e+00j,\n",
       "        0.       +0.00000000e+00j,  0.       +0.00000000e+00j,\n",
       "        0.       +0.00000000e+00j,  0.       +0.00000000e+00j,\n",
       "        0.       +0.00000000e+00j,  0.       +0.00000000e+00j,\n",
       "        0.       +0.00000000e+00j,  0.       +0.00000000e+00j,\n",
       "        0.       +0.00000000e+00j,  0.       +0.00000000e+00j,\n",
       "        0.       +0.00000000e+00j,  0.       +0.00000000e+00j,\n",
       "        0.       +0.00000000e+00j,  0.       +0.00000000e+00j,\n",
       "        0.       +0.00000000e+00j,  0.       +0.00000000e+00j,\n",
       "        0.       +0.00000000e+00j,  0.       +0.00000000e+00j,\n",
       "        0.       +0.00000000e+00j,  0.       +0.00000000e+00j,\n",
       "        0.       +0.00000000e+00j,  0.       +0.00000000e+00j,\n",
       "        0.       +0.00000000e+00j,  0.       +0.00000000e+00j,\n",
       "        0.       +0.00000000e+00j,  0.       +0.00000000e+00j,\n",
       "        0.       +0.00000000e+00j,  0.       +0.00000000e+00j,\n",
       "        0.       +0.00000000e+00j,  0.       +0.00000000e+00j,\n",
       "        0.       +0.00000000e+00j,  0.       +0.00000000e+00j,\n",
       "        0.       +0.00000000e+00j,  0.       +0.00000000e+00j,\n",
       "        0.       +0.00000000e+00j,  0.       +0.00000000e+00j,\n",
       "        0.       +0.00000000e+00j,  0.       +0.00000000e+00j,\n",
       "        0.       +0.00000000e+00j,  0.       +0.00000000e+00j,\n",
       "        0.       +0.00000000e+00j,  0.       +0.00000000e+00j,\n",
       "        0.       +0.00000000e+00j,  0.       +0.00000000e+00j,\n",
       "        0.       +0.00000000e+00j,  0.       +0.00000000e+00j,\n",
       "        0.       +0.00000000e+00j,  0.       +0.00000000e+00j,\n",
       "        0.       +0.00000000e+00j,  0.       +0.00000000e+00j,\n",
       "        0.       +0.00000000e+00j,  0.       +0.00000000e+00j,\n",
       "        0.       +0.00000000e+00j,  0.       +0.00000000e+00j,\n",
       "        0.       +0.00000000e+00j,  0.       +0.00000000e+00j,\n",
       "        0.       +0.00000000e+00j,  0.       +0.00000000e+00j,\n",
       "        0.       +0.00000000e+00j,  0.       +0.00000000e+00j,\n",
       "        0.       +0.00000000e+00j,  0.       +0.00000000e+00j,\n",
       "        0.       +0.00000000e+00j,  0.       +0.00000000e+00j,\n",
       "        0.       +0.00000000e+00j,  0.       +0.00000000e+00j,\n",
       "        0.       +0.00000000e+00j,  0.       +0.00000000e+00j,\n",
       "        0.       +0.00000000e+00j,  0.       +0.00000000e+00j,\n",
       "        0.       +0.00000000e+00j,  0.       +0.00000000e+00j,\n",
       "        0.       +0.00000000e+00j,  0.       +0.00000000e+00j,\n",
       "        0.       +0.00000000e+00j,  0.       +0.00000000e+00j])), header=Obj(clbit_labels=[['c1006', 0], ['c1006', 1]], creg_sizes=[['c1006', 2]], memory_slots=2, n_qubits=7, name='circuit18560', qreg_sizes=[['q4865', 7]], qubit_labels=[['q4865', 0], ['q4865', 1], ['q4865', 2], ['q4865', 3], ['q4865', 4], ['q4865', 5], ['q4865', 6]]), meas_level=<MeasLevel.CLASSIFIED: 2>, metadata={'parallel_shots': 8, 'parallel_state_update': 1}, seed_simulator=371354456, shots=1024, status='DONE', success=True, time_taken=0.0190129)], status='COMPLETED', success=True, time_taken=0.022941112518310547)"
      ]
     },
     "execution_count": 133,
     "metadata": {},
     "output_type": "execute_result"
    }
   ],
   "source": [
    "job0.result()"
   ]
  },
  {
   "cell_type": "code",
   "execution_count": 153,
   "metadata": {},
   "outputs": [
    {
     "data": {
      "text/plain": [
       "array([ 0.1767767-1.08244507e-17j,  0.1767767-1.08244507e-17j,\n",
       "        0.1767767-1.08244507e-17j, -0.1767767+1.08244507e-17j,\n",
       "        0.1767767-1.08244507e-17j,  0.1767767-1.08244507e-17j,\n",
       "       -0.1767767+1.08244507e-17j,  0.1767767-1.08244507e-17j,\n",
       "        0.1767767-1.08244507e-17j,  0.1767767-1.08244507e-17j,\n",
       "        0.1767767-1.08244507e-17j, -0.1767767+1.08244507e-17j,\n",
       "       -0.1767767+1.08244507e-17j, -0.1767767+1.08244507e-17j,\n",
       "        0.1767767-1.08244507e-17j, -0.1767767+1.08244507e-17j,\n",
       "        0.1767767-1.08244507e-17j, -0.1767767+1.08244507e-17j,\n",
       "        0.1767767-1.08244507e-17j,  0.1767767-1.08244507e-17j,\n",
       "        0.1767767-1.08244507e-17j, -0.1767767+1.08244507e-17j,\n",
       "       -0.1767767+1.08244507e-17j, -0.1767767+1.08244507e-17j,\n",
       "       -0.1767767+1.08244507e-17j,  0.1767767-1.08244507e-17j,\n",
       "       -0.1767767+1.08244507e-17j, -0.1767767+1.08244507e-17j,\n",
       "        0.1767767-1.08244507e-17j, -0.1767767+1.08244507e-17j,\n",
       "       -0.1767767+1.08244507e-17j, -0.1767767+1.08244507e-17j,\n",
       "        0.       +0.00000000e+00j,  0.       +0.00000000e+00j,\n",
       "        0.       +0.00000000e+00j,  0.       +0.00000000e+00j,\n",
       "        0.       +0.00000000e+00j,  0.       +0.00000000e+00j,\n",
       "        0.       +0.00000000e+00j,  0.       +0.00000000e+00j,\n",
       "        0.       +0.00000000e+00j,  0.       +0.00000000e+00j,\n",
       "        0.       +0.00000000e+00j,  0.       +0.00000000e+00j,\n",
       "        0.       +0.00000000e+00j,  0.       +0.00000000e+00j,\n",
       "        0.       +0.00000000e+00j,  0.       +0.00000000e+00j,\n",
       "        0.       +0.00000000e+00j,  0.       +0.00000000e+00j,\n",
       "        0.       +0.00000000e+00j,  0.       +0.00000000e+00j,\n",
       "        0.       +0.00000000e+00j,  0.       +0.00000000e+00j,\n",
       "        0.       +0.00000000e+00j,  0.       +0.00000000e+00j,\n",
       "        0.       +0.00000000e+00j,  0.       +0.00000000e+00j,\n",
       "        0.       +0.00000000e+00j,  0.       +0.00000000e+00j,\n",
       "        0.       +0.00000000e+00j,  0.       +0.00000000e+00j,\n",
       "        0.       +0.00000000e+00j,  0.       +0.00000000e+00j,\n",
       "        0.       +0.00000000e+00j,  0.       +0.00000000e+00j,\n",
       "        0.       +0.00000000e+00j,  0.       +0.00000000e+00j,\n",
       "        0.       +0.00000000e+00j,  0.       +0.00000000e+00j,\n",
       "        0.       +0.00000000e+00j,  0.       +0.00000000e+00j,\n",
       "        0.       +0.00000000e+00j,  0.       +0.00000000e+00j,\n",
       "        0.       +0.00000000e+00j,  0.       +0.00000000e+00j,\n",
       "        0.       +0.00000000e+00j,  0.       +0.00000000e+00j,\n",
       "        0.       +0.00000000e+00j,  0.       +0.00000000e+00j,\n",
       "        0.       +0.00000000e+00j,  0.       +0.00000000e+00j,\n",
       "        0.       +0.00000000e+00j,  0.       +0.00000000e+00j,\n",
       "        0.       +0.00000000e+00j,  0.       +0.00000000e+00j,\n",
       "        0.       +0.00000000e+00j,  0.       +0.00000000e+00j,\n",
       "        0.       +0.00000000e+00j,  0.       +0.00000000e+00j,\n",
       "        0.       +0.00000000e+00j,  0.       +0.00000000e+00j,\n",
       "        0.       +0.00000000e+00j,  0.       +0.00000000e+00j,\n",
       "        0.       +0.00000000e+00j,  0.       +0.00000000e+00j,\n",
       "        0.       +0.00000000e+00j,  0.       +0.00000000e+00j,\n",
       "        0.       +0.00000000e+00j,  0.       +0.00000000e+00j,\n",
       "        0.       +0.00000000e+00j,  0.       +0.00000000e+00j,\n",
       "        0.       +0.00000000e+00j,  0.       +0.00000000e+00j,\n",
       "        0.       +0.00000000e+00j,  0.       +0.00000000e+00j,\n",
       "        0.       +0.00000000e+00j,  0.       +0.00000000e+00j,\n",
       "        0.       +0.00000000e+00j,  0.       +0.00000000e+00j,\n",
       "        0.       +0.00000000e+00j,  0.       +0.00000000e+00j,\n",
       "        0.       +0.00000000e+00j,  0.       +0.00000000e+00j,\n",
       "        0.       +0.00000000e+00j,  0.       +0.00000000e+00j,\n",
       "        0.       +0.00000000e+00j,  0.       +0.00000000e+00j,\n",
       "        0.       +0.00000000e+00j,  0.       +0.00000000e+00j,\n",
       "        0.       +0.00000000e+00j,  0.       +0.00000000e+00j,\n",
       "        0.       +0.00000000e+00j,  0.       +0.00000000e+00j,\n",
       "        0.       +0.00000000e+00j,  0.       +0.00000000e+00j,\n",
       "        0.       +0.00000000e+00j,  0.       +0.00000000e+00j])"
      ]
     },
     "execution_count": 153,
     "metadata": {},
     "output_type": "execute_result"
    }
   ],
   "source": [
    "psi_qc0"
   ]
  },
  {
   "cell_type": "markdown",
   "metadata": {},
   "source": [
    "Since the simulation is ideal, syndrome and flag are always 0"
   ]
  },
  {
   "cell_type": "code",
   "execution_count": 53,
   "metadata": {},
   "outputs": [],
   "source": [
    "rho_qc_sf0 = tomo_qc_sim0['00'].fit(method='lstsq')"
   ]
  },
  {
   "cell_type": "markdown",
   "metadata": {},
   "source": [
    "fidelity between the reduced statevector of the circuit without measurement, and the reconstructed state of simulation tomography results"
   ]
  },
  {
   "cell_type": "code",
   "execution_count": 144,
   "metadata": {},
   "outputs": [
    {
     "name": "stdout",
     "output_type": "stream",
     "text": [
      "0.06166973242925976\n"
     ]
    }
   ],
   "source": [
    "F_qc_sf0 = state_fidelity(reduced(psi_qc0,'00'), rho_qc_sf0)\n",
    "print(F_qc_sf0)"
   ]
  },
  {
   "cell_type": "markdown",
   "metadata": {},
   "source": [
    "The fidelity seems rather poor :(. And the two density matrices, represented below, are very different."
   ]
  },
  {
   "cell_type": "code",
   "execution_count": 145,
   "metadata": {},
   "outputs": [],
   "source": [
    "psi_qc0_vec=reduced(psi_qc0, '00').reshape(32,1)"
   ]
  },
  {
   "cell_type": "code",
   "execution_count": 147,
   "metadata": {},
   "outputs": [
    {
     "name": "stdout",
     "output_type": "stream",
     "text": [
      "[[ 0.03125+0.j  0.03125+0.j  0.03125+0.j ... -0.03125+0.j -0.03125+0.j\n",
      "  -0.03125+0.j]\n",
      " [ 0.03125+0.j  0.03125+0.j  0.03125+0.j ... -0.03125+0.j -0.03125+0.j\n",
      "  -0.03125+0.j]\n",
      " [ 0.03125+0.j  0.03125+0.j  0.03125+0.j ... -0.03125+0.j -0.03125+0.j\n",
      "  -0.03125+0.j]\n",
      " ...\n",
      " [-0.03125+0.j -0.03125+0.j -0.03125+0.j ...  0.03125+0.j  0.03125+0.j\n",
      "   0.03125+0.j]\n",
      " [-0.03125+0.j -0.03125+0.j -0.03125+0.j ...  0.03125+0.j  0.03125+0.j\n",
      "   0.03125+0.j]\n",
      " [-0.03125+0.j -0.03125+0.j -0.03125+0.j ...  0.03125+0.j  0.03125+0.j\n",
      "   0.03125+0.j]]\n"
     ]
    }
   ],
   "source": [
    "dm_qc0=np.dot(psi_qc0_vec, psi_qc0_vec.conj().T)\n",
    "print(dm_qc0)"
   ]
  },
  {
   "cell_type": "code",
   "execution_count": 137,
   "metadata": {},
   "outputs": [
    {
     "data": {
      "text/plain": [
       "array([[ 7.74762802e-02+0.00000000e+00j,  2.83586823e-02-2.83582424e-02j,\n",
       "         2.83572053e-02-2.83591201e-02j, ...,\n",
       "        -3.06671472e-04+3.84535923e-04j, -3.06818512e-04+3.84489750e-04j,\n",
       "         2.79873180e-05+2.53037838e-04j],\n",
       "       [ 2.83586823e-02+2.83582424e-02j,  2.07599638e-02+0.00000000e+00j,\n",
       "         2.07597445e-02-8.61875376e-07j, ...,\n",
       "        -2.52595302e-04+2.80415293e-05j, -2.52632214e-04+2.79707986e-05j,\n",
       "        -8.23942210e-05+1.02546470e-04j],\n",
       "       [ 2.83572053e-02+2.83591201e-02j,  2.07597445e-02+8.61875376e-07j,\n",
       "         2.07595252e-02+0.00000000e+00j, ...,\n",
       "        -2.52032299e-04+2.84510364e-05j, -2.52069227e-04+2.83803249e-05j,\n",
       "        -8.20382807e-05+1.02490298e-04j],\n",
       "       ...,\n",
       "       [-3.06671472e-04-3.84535923e-04j, -2.52595302e-04-2.80415293e-05j,\n",
       "        -2.52032299e-04-2.84510364e-05j, ...,\n",
       "         2.06932547e-02+0.00000000e+00j,  2.06931496e-02+4.25066952e-07j,\n",
       "         7.57373640e-03-7.57363709e-03j],\n",
       "       [-3.06818512e-04-3.84489750e-04j, -2.52632214e-04-2.79707986e-05j,\n",
       "        -2.52069227e-04-2.83803249e-05j, ...,\n",
       "         2.06931496e-02-4.25066952e-07j,  2.06930446e-02+0.00000000e+00j,\n",
       "         7.57354240e-03-7.57375421e-03j],\n",
       "       [ 2.79873180e-05-2.53037838e-04j, -8.23942210e-05-1.02546470e-04j,\n",
       "        -8.20382807e-05-1.02490298e-04j, ...,\n",
       "         7.57373640e-03+7.57363709e-03j,  7.57354240e-03+7.57375421e-03j,\n",
       "         5.54390617e-03+0.00000000e+00j]])"
      ]
     },
     "execution_count": 137,
     "metadata": {},
     "output_type": "execute_result"
    }
   ],
   "source": [
    "rho_qc_sf0"
   ]
  },
  {
   "cell_type": "markdown",
   "metadata": {},
   "source": [
    "The following fidelity calculations are incorrect because noisy experimental results include those with non-zero syndrome or flag."
   ]
  },
  {
   "cell_type": "markdown",
   "metadata": {},
   "source": [
    "The fidelity between reconstruction using the simulation data and reconstruction using the real qc data"
   ]
  },
  {
   "cell_type": "code",
   "execution_count": 99,
   "metadata": {},
   "outputs": [],
   "source": [
    "rho_real_sf0= tomo_qc_real0.fit(method='lstsq')"
   ]
  },
  {
   "cell_type": "code",
   "execution_count": 112,
   "metadata": {},
   "outputs": [
    {
     "name": "stdout",
     "output_type": "stream",
     "text": [
      "0.16698530029751857\n"
     ]
    }
   ],
   "source": [
    "F_qc_0=state_fidelity(rho_qc_sf0, rho_real_sf0)\n",
    "print(F_qc_0)"
   ]
  },
  {
   "cell_type": "markdown",
   "metadata": {},
   "source": [
    "Fidelity between the real-quantum-computer-data reconstruction and the ideal statevector"
   ]
  },
  {
   "cell_type": "code",
   "execution_count": 154,
   "metadata": {},
   "outputs": [
    {
     "name": "stdout",
     "output_type": "stream",
     "text": [
      "0.03289507396165945\n"
     ]
    }
   ],
   "source": [
    "F_qc_1=state_fidelity(reduced(psi_qc0,'00'), rho_real_sf0)\n",
    "print(F_qc_1)"
   ]
  },
  {
   "cell_type": "code",
   "execution_count": 124,
   "metadata": {},
   "outputs": [
    {
     "data": {
      "text/plain": [
       "{'11001': 53,\n",
       " '01000': 88,\n",
       " '00111': 72,\n",
       " '10110': 47,\n",
       " '10101': 66,\n",
       " '01100': 67,\n",
       " '10000': 56,\n",
       " '10111': 55,\n",
       " '11110': 41,\n",
       " '01001': 87,\n",
       " '11101': 61,\n",
       " '11100': 57,\n",
       " '00000': 72,\n",
       " '01111': 67,\n",
       " '00100': 77,\n",
       " '01110': 55,\n",
       " '11111': 51,\n",
       " '11010': 50,\n",
       " '01101': 61,\n",
       " '11000': 48,\n",
       " '00001': 96,\n",
       " '00101': 73,\n",
       " '10100': 57,\n",
       " '01010': 90,\n",
       " '00110': 60,\n",
       " '10001': 77,\n",
       " '00010': 68,\n",
       " '10011': 49,\n",
       " '01011': 77,\n",
       " '10010': 48,\n",
       " '00011': 69,\n",
       " '11011': 53}"
      ]
     },
     "execution_count": 124,
     "metadata": {},
     "output_type": "execute_result"
    }
   ],
   "source": [
    "results_real0.get_counts(1)"
   ]
  }
 ],
 "metadata": {
  "kernelspec": {
   "display_name": "Python 3",
   "language": "python",
   "name": "python3"
  },
  "language_info": {
   "codemirror_mode": {
    "name": "ipython",
    "version": 3
   },
   "file_extension": ".py",
   "mimetype": "text/x-python",
   "name": "python",
   "nbconvert_exporter": "python",
   "pygments_lexer": "ipython3",
   "version": "3.7.3"
  }
 },
 "nbformat": 4,
 "nbformat_minor": 2
}
